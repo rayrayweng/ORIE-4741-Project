{
  "nbformat": 4,
  "nbformat_minor": 0,
  "metadata": {
    "colab": {
      "name": "4741Project.ipynb",
      "provenance": [],
      "collapsed_sections": []
    },
    "kernelspec": {
      "name": "python3",
      "display_name": "Python 3"
    },
    "language_info": {
      "name": "python"
    }
  },
  "cells": [
    {
      "cell_type": "code",
      "metadata": {
        "id": "zrZpvI0VKeZo",
        "colab": {
          "base_uri": "https://localhost:8080/"
        },
        "outputId": "a7f6aa24-f768-4273-a2d5-4f31df31f737"
      },
      "source": [
        "import numpy as np\n",
        "import pandas as pd\n",
        "\n",
        "import statsmodels.api as sm\n",
        "\n",
        "import matplotlib.pyplot as plt \n",
        "%matplotlib inline\n",
        "\n",
        "import random as rand\n",
        "\n",
        "import sklearn.linear_model as lm "
      ],
      "execution_count": 1,
      "outputs": [
        {
          "output_type": "stream",
          "name": "stderr",
          "text": [
            "/usr/local/lib/python3.7/dist-packages/statsmodels/tools/_testing.py:19: FutureWarning: pandas.util.testing is deprecated. Use the functions in the public API at pandas.testing instead.\n",
            "  import pandas.util.testing as tm\n"
          ]
        }
      ]
    },
    {
      "cell_type": "code",
      "metadata": {
        "id": "u1pNzdnoxKB7"
      },
      "source": [
        "import sklearn.preprocessing as prep"
      ],
      "execution_count": 2,
      "outputs": []
    },
    {
      "cell_type": "markdown",
      "metadata": {
        "id": "RdMkx5UHAAKX"
      },
      "source": [
        "FoundingDateGrouped, employeesGrouped, FiscalMonth, CEOAge"
      ]
    },
    {
      "cell_type": "code",
      "metadata": {
        "colab": {
          "base_uri": "https://localhost:8080/"
        },
        "id": "yrxd542jLz28",
        "outputId": "326afd92-5415-4615-ed0f-e1187155f59f"
      },
      "source": [
        "np.random.seed(26)\n",
        "df = pd.read_csv('IPODataFull.csv', encoding= 'unicode_escape')\n",
        "\n",
        "feature_names = df.columns\n",
        "for i in range(len(feature_names)):\n",
        "    print(str(i), \"\\t\", str(feature_names[i]),\"\\t\\t\\t\", str(type(df.iloc[0,i])))"
      ],
      "execution_count": 3,
      "outputs": [
        {
          "output_type": "stream",
          "name": "stderr",
          "text": [
            "/usr/local/lib/python3.7/dist-packages/IPython/core/interactiveshell.py:2718: DtypeWarning: Columns (1344,1427,1434,1545,1548,1551,1553,1554,1555,1564,1589,1590,1607,1610,1617,1621,1622,1623,1624,1631,1632,1634,1635,1642,1643,1644,1645,1646,1648) have mixed types.Specify dtype option on import or set low_memory=False.\n",
            "  interactivity=interactivity, compiler=compiler, result=result)\n"
          ]
        },
        {
          "output_type": "stream",
          "name": "stdout",
          "text": [
            "0 \t Symbol \t\t\t <class 'str'>\n",
            "1 \t DaysBetterThanSP \t\t\t <class 'numpy.int64'>\n",
            "2 \t daysProfit \t\t\t <class 'numpy.int64'>\n",
            "3 \t daysProfitGrouped \t\t\t <class 'str'>\n",
            "4 \t exactDiffernce \t\t\t <class 'numpy.float64'>\n",
            "5 \t Year \t\t\t <class 'numpy.int64'>\n",
            "6 \t Month \t\t\t <class 'numpy.int64'>\n",
            "7 \t Day \t\t\t <class 'numpy.int64'>\n",
            "8 \t dayOfWeek \t\t\t <class 'numpy.int64'>\n",
            "9 \t closeDay0 \t\t\t <class 'numpy.float64'>\n",
            "10 \t highDay0 \t\t\t <class 'numpy.float64'>\n",
            "11 \t openDay0 \t\t\t <class 'numpy.float64'>\n",
            "12 \t lowDay0 \t\t\t <class 'numpy.float64'>\n",
            "13 \t volumeDay0 \t\t\t <class 'numpy.float64'>\n",
            "14 \t closeDay1 \t\t\t <class 'numpy.float64'>\n",
            "15 \t highDay1 \t\t\t <class 'numpy.float64'>\n",
            "16 \t openDay1 \t\t\t <class 'numpy.float64'>\n",
            "17 \t lowDay1 \t\t\t <class 'numpy.float64'>\n",
            "18 \t volumeDay1 \t\t\t <class 'numpy.float64'>\n",
            "19 \t closeDay2 \t\t\t <class 'numpy.float64'>\n",
            "20 \t highDay2 \t\t\t <class 'numpy.float64'>\n",
            "21 \t openDay2 \t\t\t <class 'numpy.float64'>\n",
            "22 \t lowDay2 \t\t\t <class 'numpy.float64'>\n",
            "23 \t volumeDay2 \t\t\t <class 'numpy.float64'>\n",
            "24 \t closeDay3 \t\t\t <class 'numpy.float64'>\n",
            "25 \t highDay3 \t\t\t <class 'numpy.float64'>\n",
            "26 \t openDay3 \t\t\t <class 'numpy.float64'>\n",
            "27 \t lowDay3 \t\t\t <class 'numpy.float64'>\n",
            "28 \t volumeDay3 \t\t\t <class 'numpy.float64'>\n",
            "29 \t closeDay4 \t\t\t <class 'numpy.float64'>\n",
            "30 \t highDay4 \t\t\t <class 'numpy.float64'>\n",
            "31 \t openDay4 \t\t\t <class 'numpy.float64'>\n",
            "32 \t lowDay4 \t\t\t <class 'numpy.float64'>\n",
            "33 \t volumeDay4 \t\t\t <class 'numpy.float64'>\n",
            "34 \t closeDay5 \t\t\t <class 'numpy.float64'>\n",
            "35 \t highDay5 \t\t\t <class 'numpy.float64'>\n",
            "36 \t openDay5 \t\t\t <class 'numpy.float64'>\n",
            "37 \t lowDay5 \t\t\t <class 'numpy.float64'>\n",
            "38 \t volumeDay5 \t\t\t <class 'numpy.float64'>\n",
            "39 \t closeDay6 \t\t\t <class 'numpy.float64'>\n",
            "40 \t highDay6 \t\t\t <class 'numpy.float64'>\n",
            "41 \t openDay6 \t\t\t <class 'numpy.float64'>\n",
            "42 \t lowDay6 \t\t\t <class 'numpy.float64'>\n",
            "43 \t volumeDay6 \t\t\t <class 'numpy.float64'>\n",
            "44 \t closeDay7 \t\t\t <class 'numpy.float64'>\n",
            "45 \t highDay7 \t\t\t <class 'numpy.float64'>\n",
            "46 \t openDay7 \t\t\t <class 'numpy.float64'>\n",
            "47 \t lowDay7 \t\t\t <class 'numpy.float64'>\n",
            "48 \t volumeDay7 \t\t\t <class 'numpy.float64'>\n",
            "49 \t closeDay8 \t\t\t <class 'numpy.float64'>\n",
            "50 \t highDay8 \t\t\t <class 'numpy.float64'>\n",
            "51 \t openDay8 \t\t\t <class 'numpy.float64'>\n",
            "52 \t lowDay8 \t\t\t <class 'numpy.float64'>\n",
            "53 \t volumeDay8 \t\t\t <class 'numpy.float64'>\n",
            "54 \t closeDay9 \t\t\t <class 'numpy.float64'>\n",
            "55 \t highDay9 \t\t\t <class 'numpy.float64'>\n",
            "56 \t openDay9 \t\t\t <class 'numpy.float64'>\n",
            "57 \t lowDay9 \t\t\t <class 'numpy.float64'>\n",
            "58 \t volumeDay9 \t\t\t <class 'numpy.float64'>\n",
            "59 \t closeDay10 \t\t\t <class 'numpy.float64'>\n",
            "60 \t highDay10 \t\t\t <class 'numpy.float64'>\n",
            "61 \t openDay10 \t\t\t <class 'numpy.float64'>\n",
            "62 \t lowDay10 \t\t\t <class 'numpy.float64'>\n",
            "63 \t volumeDay10 \t\t\t <class 'numpy.float64'>\n",
            "64 \t closeDay11 \t\t\t <class 'numpy.float64'>\n",
            "65 \t highDay11 \t\t\t <class 'numpy.float64'>\n",
            "66 \t openDay11 \t\t\t <class 'numpy.float64'>\n",
            "67 \t lowDay11 \t\t\t <class 'numpy.float64'>\n",
            "68 \t volumeDay11 \t\t\t <class 'numpy.float64'>\n",
            "69 \t closeDay12 \t\t\t <class 'numpy.float64'>\n",
            "70 \t highDay12 \t\t\t <class 'numpy.float64'>\n",
            "71 \t openDay12 \t\t\t <class 'numpy.float64'>\n",
            "72 \t lowDay12 \t\t\t <class 'numpy.float64'>\n",
            "73 \t volumeDay12 \t\t\t <class 'numpy.float64'>\n",
            "74 \t closeDay13 \t\t\t <class 'numpy.float64'>\n",
            "75 \t highDay13 \t\t\t <class 'numpy.float64'>\n",
            "76 \t openDay13 \t\t\t <class 'numpy.float64'>\n",
            "77 \t lowDay13 \t\t\t <class 'numpy.float64'>\n",
            "78 \t volumeDay13 \t\t\t <class 'numpy.float64'>\n",
            "79 \t closeDay14 \t\t\t <class 'numpy.float64'>\n",
            "80 \t highDay14 \t\t\t <class 'numpy.float64'>\n",
            "81 \t openDay14 \t\t\t <class 'numpy.float64'>\n",
            "82 \t lowDay14 \t\t\t <class 'numpy.float64'>\n",
            "83 \t volumeDay14 \t\t\t <class 'numpy.float64'>\n",
            "84 \t closeDay15 \t\t\t <class 'numpy.float64'>\n",
            "85 \t highDay15 \t\t\t <class 'numpy.float64'>\n",
            "86 \t openDay15 \t\t\t <class 'numpy.float64'>\n",
            "87 \t lowDay15 \t\t\t <class 'numpy.float64'>\n",
            "88 \t volumeDay15 \t\t\t <class 'numpy.float64'>\n",
            "89 \t closeDay16 \t\t\t <class 'numpy.float64'>\n",
            "90 \t highDay16 \t\t\t <class 'numpy.float64'>\n",
            "91 \t openDay16 \t\t\t <class 'numpy.float64'>\n",
            "92 \t lowDay16 \t\t\t <class 'numpy.float64'>\n",
            "93 \t volumeDay16 \t\t\t <class 'numpy.float64'>\n",
            "94 \t closeDay17 \t\t\t <class 'numpy.float64'>\n",
            "95 \t highDay17 \t\t\t <class 'numpy.float64'>\n",
            "96 \t openDay17 \t\t\t <class 'numpy.float64'>\n",
            "97 \t lowDay17 \t\t\t <class 'numpy.float64'>\n",
            "98 \t volumeDay17 \t\t\t <class 'numpy.float64'>\n",
            "99 \t closeDay18 \t\t\t <class 'numpy.float64'>\n",
            "100 \t highDay18 \t\t\t <class 'numpy.float64'>\n",
            "101 \t openDay18 \t\t\t <class 'numpy.float64'>\n",
            "102 \t lowDay18 \t\t\t <class 'numpy.float64'>\n",
            "103 \t volumeDay18 \t\t\t <class 'numpy.float64'>\n",
            "104 \t closeDay19 \t\t\t <class 'numpy.float64'>\n",
            "105 \t highDay19 \t\t\t <class 'numpy.float64'>\n",
            "106 \t openDay19 \t\t\t <class 'numpy.float64'>\n",
            "107 \t lowDay19 \t\t\t <class 'numpy.float64'>\n",
            "108 \t volumeDay19 \t\t\t <class 'numpy.float64'>\n",
            "109 \t closeDay20 \t\t\t <class 'numpy.float64'>\n",
            "110 \t highDay20 \t\t\t <class 'numpy.float64'>\n",
            "111 \t openDay20 \t\t\t <class 'numpy.float64'>\n",
            "112 \t lowDay20 \t\t\t <class 'numpy.float64'>\n",
            "113 \t volumeDay20 \t\t\t <class 'numpy.float64'>\n",
            "114 \t closeDay21 \t\t\t <class 'numpy.float64'>\n",
            "115 \t highDay21 \t\t\t <class 'numpy.float64'>\n",
            "116 \t openDay21 \t\t\t <class 'numpy.float64'>\n",
            "117 \t lowDay21 \t\t\t <class 'numpy.float64'>\n",
            "118 \t volumeDay21 \t\t\t <class 'numpy.float64'>\n",
            "119 \t closeDay22 \t\t\t <class 'numpy.float64'>\n",
            "120 \t highDay22 \t\t\t <class 'numpy.float64'>\n",
            "121 \t openDay22 \t\t\t <class 'numpy.float64'>\n",
            "122 \t lowDay22 \t\t\t <class 'numpy.float64'>\n",
            "123 \t volumeDay22 \t\t\t <class 'numpy.float64'>\n",
            "124 \t closeDay23 \t\t\t <class 'numpy.float64'>\n",
            "125 \t highDay23 \t\t\t <class 'numpy.float64'>\n",
            "126 \t openDay23 \t\t\t <class 'numpy.float64'>\n",
            "127 \t lowDay23 \t\t\t <class 'numpy.float64'>\n",
            "128 \t volumeDay23 \t\t\t <class 'numpy.float64'>\n",
            "129 \t closeDay24 \t\t\t <class 'numpy.float64'>\n",
            "130 \t highDay24 \t\t\t <class 'numpy.float64'>\n",
            "131 \t openDay24 \t\t\t <class 'numpy.float64'>\n",
            "132 \t lowDay24 \t\t\t <class 'numpy.float64'>\n",
            "133 \t volumeDay24 \t\t\t <class 'numpy.float64'>\n",
            "134 \t closeDay25 \t\t\t <class 'numpy.float64'>\n",
            "135 \t highDay25 \t\t\t <class 'numpy.float64'>\n",
            "136 \t openDay25 \t\t\t <class 'numpy.float64'>\n",
            "137 \t lowDay25 \t\t\t <class 'numpy.float64'>\n",
            "138 \t volumeDay25 \t\t\t <class 'numpy.float64'>\n",
            "139 \t closeDay26 \t\t\t <class 'numpy.float64'>\n",
            "140 \t highDay26 \t\t\t <class 'numpy.float64'>\n",
            "141 \t openDay26 \t\t\t <class 'numpy.float64'>\n",
            "142 \t lowDay26 \t\t\t <class 'numpy.float64'>\n",
            "143 \t volumeDay26 \t\t\t <class 'numpy.float64'>\n",
            "144 \t closeDay27 \t\t\t <class 'numpy.float64'>\n",
            "145 \t highDay27 \t\t\t <class 'numpy.float64'>\n",
            "146 \t openDay27 \t\t\t <class 'numpy.float64'>\n",
            "147 \t lowDay27 \t\t\t <class 'numpy.float64'>\n",
            "148 \t volumeDay27 \t\t\t <class 'numpy.float64'>\n",
            "149 \t closeDay28 \t\t\t <class 'numpy.float64'>\n",
            "150 \t highDay28 \t\t\t <class 'numpy.float64'>\n",
            "151 \t openDay28 \t\t\t <class 'numpy.float64'>\n",
            "152 \t lowDay28 \t\t\t <class 'numpy.float64'>\n",
            "153 \t volumeDay28 \t\t\t <class 'numpy.float64'>\n",
            "154 \t closeDay29 \t\t\t <class 'numpy.float64'>\n",
            "155 \t highDay29 \t\t\t <class 'numpy.float64'>\n",
            "156 \t openDay29 \t\t\t <class 'numpy.float64'>\n",
            "157 \t lowDay29 \t\t\t <class 'numpy.float64'>\n",
            "158 \t volumeDay29 \t\t\t <class 'numpy.float64'>\n",
            "159 \t closeDay30 \t\t\t <class 'numpy.float64'>\n",
            "160 \t highDay30 \t\t\t <class 'numpy.float64'>\n",
            "161 \t openDay30 \t\t\t <class 'numpy.float64'>\n",
            "162 \t lowDay30 \t\t\t <class 'numpy.float64'>\n",
            "163 \t volumeDay30 \t\t\t <class 'numpy.float64'>\n",
            "164 \t closeDay31 \t\t\t <class 'numpy.float64'>\n",
            "165 \t highDay31 \t\t\t <class 'numpy.float64'>\n",
            "166 \t openDay31 \t\t\t <class 'numpy.float64'>\n",
            "167 \t lowDay31 \t\t\t <class 'numpy.float64'>\n",
            "168 \t volumeDay31 \t\t\t <class 'numpy.float64'>\n",
            "169 \t closeDay32 \t\t\t <class 'numpy.float64'>\n",
            "170 \t highDay32 \t\t\t <class 'numpy.float64'>\n",
            "171 \t openDay32 \t\t\t <class 'numpy.float64'>\n",
            "172 \t lowDay32 \t\t\t <class 'numpy.float64'>\n",
            "173 \t volumeDay32 \t\t\t <class 'numpy.float64'>\n",
            "174 \t closeDay33 \t\t\t <class 'numpy.float64'>\n",
            "175 \t highDay33 \t\t\t <class 'numpy.float64'>\n",
            "176 \t openDay33 \t\t\t <class 'numpy.float64'>\n",
            "177 \t lowDay33 \t\t\t <class 'numpy.float64'>\n",
            "178 \t volumeDay33 \t\t\t <class 'numpy.float64'>\n",
            "179 \t closeDay34 \t\t\t <class 'numpy.float64'>\n",
            "180 \t highDay34 \t\t\t <class 'numpy.float64'>\n",
            "181 \t openDay34 \t\t\t <class 'numpy.float64'>\n",
            "182 \t lowDay34 \t\t\t <class 'numpy.float64'>\n",
            "183 \t volumeDay34 \t\t\t <class 'numpy.float64'>\n",
            "184 \t closeDay35 \t\t\t <class 'numpy.float64'>\n",
            "185 \t highDay35 \t\t\t <class 'numpy.float64'>\n",
            "186 \t openDay35 \t\t\t <class 'numpy.float64'>\n",
            "187 \t lowDay35 \t\t\t <class 'numpy.float64'>\n",
            "188 \t volumeDay35 \t\t\t <class 'numpy.float64'>\n",
            "189 \t closeDay36 \t\t\t <class 'numpy.float64'>\n",
            "190 \t highDay36 \t\t\t <class 'numpy.float64'>\n",
            "191 \t openDay36 \t\t\t <class 'numpy.float64'>\n",
            "192 \t lowDay36 \t\t\t <class 'numpy.float64'>\n",
            "193 \t volumeDay36 \t\t\t <class 'numpy.float64'>\n",
            "194 \t closeDay37 \t\t\t <class 'numpy.float64'>\n",
            "195 \t highDay37 \t\t\t <class 'numpy.float64'>\n",
            "196 \t openDay37 \t\t\t <class 'numpy.float64'>\n",
            "197 \t lowDay37 \t\t\t <class 'numpy.float64'>\n",
            "198 \t volumeDay37 \t\t\t <class 'numpy.float64'>\n",
            "199 \t closeDay38 \t\t\t <class 'numpy.float64'>\n",
            "200 \t highDay38 \t\t\t <class 'numpy.float64'>\n",
            "201 \t openDay38 \t\t\t <class 'numpy.float64'>\n",
            "202 \t lowDay38 \t\t\t <class 'numpy.float64'>\n",
            "203 \t volumeDay38 \t\t\t <class 'numpy.float64'>\n",
            "204 \t closeDay39 \t\t\t <class 'numpy.float64'>\n",
            "205 \t highDay39 \t\t\t <class 'numpy.float64'>\n",
            "206 \t openDay39 \t\t\t <class 'numpy.float64'>\n",
            "207 \t lowDay39 \t\t\t <class 'numpy.float64'>\n",
            "208 \t volumeDay39 \t\t\t <class 'numpy.float64'>\n",
            "209 \t closeDay40 \t\t\t <class 'numpy.float64'>\n",
            "210 \t highDay40 \t\t\t <class 'numpy.float64'>\n",
            "211 \t openDay40 \t\t\t <class 'numpy.float64'>\n",
            "212 \t lowDay40 \t\t\t <class 'numpy.float64'>\n",
            "213 \t volumeDay40 \t\t\t <class 'numpy.float64'>\n",
            "214 \t closeDay41 \t\t\t <class 'numpy.float64'>\n",
            "215 \t highDay41 \t\t\t <class 'numpy.float64'>\n",
            "216 \t openDay41 \t\t\t <class 'numpy.float64'>\n",
            "217 \t lowDay41 \t\t\t <class 'numpy.float64'>\n",
            "218 \t volumeDay41 \t\t\t <class 'numpy.float64'>\n",
            "219 \t closeDay42 \t\t\t <class 'numpy.float64'>\n",
            "220 \t highDay42 \t\t\t <class 'numpy.float64'>\n",
            "221 \t openDay42 \t\t\t <class 'numpy.float64'>\n",
            "222 \t lowDay42 \t\t\t <class 'numpy.float64'>\n",
            "223 \t volumeDay42 \t\t\t <class 'numpy.float64'>\n",
            "224 \t closeDay43 \t\t\t <class 'numpy.float64'>\n",
            "225 \t highDay43 \t\t\t <class 'numpy.float64'>\n",
            "226 \t openDay43 \t\t\t <class 'numpy.float64'>\n",
            "227 \t lowDay43 \t\t\t <class 'numpy.float64'>\n",
            "228 \t volumeDay43 \t\t\t <class 'numpy.float64'>\n",
            "229 \t closeDay44 \t\t\t <class 'numpy.float64'>\n",
            "230 \t highDay44 \t\t\t <class 'numpy.float64'>\n",
            "231 \t openDay44 \t\t\t <class 'numpy.float64'>\n",
            "232 \t lowDay44 \t\t\t <class 'numpy.float64'>\n",
            "233 \t volumeDay44 \t\t\t <class 'numpy.float64'>\n",
            "234 \t closeDay45 \t\t\t <class 'numpy.float64'>\n",
            "235 \t highDay45 \t\t\t <class 'numpy.float64'>\n",
            "236 \t openDay45 \t\t\t <class 'numpy.float64'>\n",
            "237 \t lowDay45 \t\t\t <class 'numpy.float64'>\n",
            "238 \t volumeDay45 \t\t\t <class 'numpy.float64'>\n",
            "239 \t closeDay46 \t\t\t <class 'numpy.float64'>\n",
            "240 \t highDay46 \t\t\t <class 'numpy.float64'>\n",
            "241 \t openDay46 \t\t\t <class 'numpy.float64'>\n",
            "242 \t lowDay46 \t\t\t <class 'numpy.float64'>\n",
            "243 \t volumeDay46 \t\t\t <class 'numpy.float64'>\n",
            "244 \t closeDay47 \t\t\t <class 'numpy.float64'>\n",
            "245 \t highDay47 \t\t\t <class 'numpy.float64'>\n",
            "246 \t openDay47 \t\t\t <class 'numpy.float64'>\n",
            "247 \t lowDay47 \t\t\t <class 'numpy.float64'>\n",
            "248 \t volumeDay47 \t\t\t <class 'numpy.float64'>\n",
            "249 \t closeDay48 \t\t\t <class 'numpy.float64'>\n",
            "250 \t highDay48 \t\t\t <class 'numpy.float64'>\n",
            "251 \t openDay48 \t\t\t <class 'numpy.float64'>\n",
            "252 \t lowDay48 \t\t\t <class 'numpy.float64'>\n",
            "253 \t volumeDay48 \t\t\t <class 'numpy.float64'>\n",
            "254 \t closeDay49 \t\t\t <class 'numpy.float64'>\n",
            "255 \t highDay49 \t\t\t <class 'numpy.float64'>\n",
            "256 \t openDay49 \t\t\t <class 'numpy.float64'>\n",
            "257 \t lowDay49 \t\t\t <class 'numpy.float64'>\n",
            "258 \t volumeDay49 \t\t\t <class 'numpy.float64'>\n",
            "259 \t closeDay50 \t\t\t <class 'numpy.float64'>\n",
            "260 \t highDay50 \t\t\t <class 'numpy.float64'>\n",
            "261 \t openDay50 \t\t\t <class 'numpy.float64'>\n",
            "262 \t lowDay50 \t\t\t <class 'numpy.float64'>\n",
            "263 \t volumeDay50 \t\t\t <class 'numpy.float64'>\n",
            "264 \t closeDay51 \t\t\t <class 'numpy.float64'>\n",
            "265 \t highDay51 \t\t\t <class 'numpy.float64'>\n",
            "266 \t openDay51 \t\t\t <class 'numpy.float64'>\n",
            "267 \t lowDay51 \t\t\t <class 'numpy.float64'>\n",
            "268 \t volumeDay51 \t\t\t <class 'numpy.float64'>\n",
            "269 \t closeDay52 \t\t\t <class 'numpy.float64'>\n",
            "270 \t highDay52 \t\t\t <class 'numpy.float64'>\n",
            "271 \t openDay52 \t\t\t <class 'numpy.float64'>\n",
            "272 \t lowDay52 \t\t\t <class 'numpy.float64'>\n",
            "273 \t volumeDay52 \t\t\t <class 'numpy.float64'>\n",
            "274 \t closeDay53 \t\t\t <class 'numpy.float64'>\n",
            "275 \t highDay53 \t\t\t <class 'numpy.float64'>\n",
            "276 \t openDay53 \t\t\t <class 'numpy.float64'>\n",
            "277 \t lowDay53 \t\t\t <class 'numpy.float64'>\n",
            "278 \t volumeDay53 \t\t\t <class 'numpy.float64'>\n",
            "279 \t closeDay54 \t\t\t <class 'numpy.float64'>\n",
            "280 \t highDay54 \t\t\t <class 'numpy.float64'>\n",
            "281 \t openDay54 \t\t\t <class 'numpy.float64'>\n",
            "282 \t lowDay54 \t\t\t <class 'numpy.float64'>\n",
            "283 \t volumeDay54 \t\t\t <class 'numpy.float64'>\n",
            "284 \t closeDay55 \t\t\t <class 'numpy.float64'>\n",
            "285 \t highDay55 \t\t\t <class 'numpy.float64'>\n",
            "286 \t openDay55 \t\t\t <class 'numpy.float64'>\n",
            "287 \t lowDay55 \t\t\t <class 'numpy.float64'>\n",
            "288 \t volumeDay55 \t\t\t <class 'numpy.float64'>\n",
            "289 \t closeDay56 \t\t\t <class 'numpy.float64'>\n",
            "290 \t highDay56 \t\t\t <class 'numpy.float64'>\n",
            "291 \t openDay56 \t\t\t <class 'numpy.float64'>\n",
            "292 \t lowDay56 \t\t\t <class 'numpy.float64'>\n",
            "293 \t volumeDay56 \t\t\t <class 'numpy.float64'>\n",
            "294 \t closeDay57 \t\t\t <class 'numpy.float64'>\n",
            "295 \t highDay57 \t\t\t <class 'numpy.float64'>\n",
            "296 \t openDay57 \t\t\t <class 'numpy.float64'>\n",
            "297 \t lowDay57 \t\t\t <class 'numpy.float64'>\n",
            "298 \t volumeDay57 \t\t\t <class 'numpy.float64'>\n",
            "299 \t closeDay58 \t\t\t <class 'numpy.float64'>\n",
            "300 \t highDay58 \t\t\t <class 'numpy.float64'>\n",
            "301 \t openDay58 \t\t\t <class 'numpy.float64'>\n",
            "302 \t lowDay58 \t\t\t <class 'numpy.float64'>\n",
            "303 \t volumeDay58 \t\t\t <class 'numpy.float64'>\n",
            "304 \t closeDay59 \t\t\t <class 'numpy.float64'>\n",
            "305 \t highDay59 \t\t\t <class 'numpy.float64'>\n",
            "306 \t openDay59 \t\t\t <class 'numpy.float64'>\n",
            "307 \t lowDay59 \t\t\t <class 'numpy.float64'>\n",
            "308 \t volumeDay59 \t\t\t <class 'numpy.float64'>\n",
            "309 \t closeDay60 \t\t\t <class 'numpy.float64'>\n",
            "310 \t highDay60 \t\t\t <class 'numpy.float64'>\n",
            "311 \t openDay60 \t\t\t <class 'numpy.float64'>\n",
            "312 \t lowDay60 \t\t\t <class 'numpy.float64'>\n",
            "313 \t volumeDay60 \t\t\t <class 'numpy.float64'>\n",
            "314 \t closeDay61 \t\t\t <class 'numpy.float64'>\n",
            "315 \t highDay61 \t\t\t <class 'numpy.float64'>\n",
            "316 \t openDay61 \t\t\t <class 'numpy.float64'>\n",
            "317 \t lowDay61 \t\t\t <class 'numpy.float64'>\n",
            "318 \t volumeDay61 \t\t\t <class 'numpy.float64'>\n",
            "319 \t closeDay62 \t\t\t <class 'numpy.float64'>\n",
            "320 \t highDay62 \t\t\t <class 'numpy.float64'>\n",
            "321 \t openDay62 \t\t\t <class 'numpy.float64'>\n",
            "322 \t lowDay62 \t\t\t <class 'numpy.float64'>\n",
            "323 \t volumeDay62 \t\t\t <class 'numpy.float64'>\n",
            "324 \t closeDay63 \t\t\t <class 'numpy.float64'>\n",
            "325 \t highDay63 \t\t\t <class 'numpy.float64'>\n",
            "326 \t openDay63 \t\t\t <class 'numpy.float64'>\n",
            "327 \t lowDay63 \t\t\t <class 'numpy.float64'>\n",
            "328 \t volumeDay63 \t\t\t <class 'numpy.float64'>\n",
            "329 \t closeDay64 \t\t\t <class 'numpy.float64'>\n",
            "330 \t highDay64 \t\t\t <class 'numpy.float64'>\n",
            "331 \t openDay64 \t\t\t <class 'numpy.float64'>\n",
            "332 \t lowDay64 \t\t\t <class 'numpy.float64'>\n",
            "333 \t volumeDay64 \t\t\t <class 'numpy.float64'>\n",
            "334 \t closeDay65 \t\t\t <class 'numpy.float64'>\n",
            "335 \t highDay65 \t\t\t <class 'numpy.float64'>\n",
            "336 \t openDay65 \t\t\t <class 'numpy.float64'>\n",
            "337 \t lowDay65 \t\t\t <class 'numpy.float64'>\n",
            "338 \t volumeDay65 \t\t\t <class 'numpy.float64'>\n",
            "339 \t closeDay66 \t\t\t <class 'numpy.float64'>\n",
            "340 \t highDay66 \t\t\t <class 'numpy.float64'>\n",
            "341 \t openDay66 \t\t\t <class 'numpy.float64'>\n",
            "342 \t lowDay66 \t\t\t <class 'numpy.float64'>\n",
            "343 \t volumeDay66 \t\t\t <class 'numpy.float64'>\n",
            "344 \t closeDay67 \t\t\t <class 'numpy.float64'>\n",
            "345 \t highDay67 \t\t\t <class 'numpy.float64'>\n",
            "346 \t openDay67 \t\t\t <class 'numpy.float64'>\n",
            "347 \t lowDay67 \t\t\t <class 'numpy.float64'>\n",
            "348 \t volumeDay67 \t\t\t <class 'numpy.float64'>\n",
            "349 \t closeDay68 \t\t\t <class 'numpy.float64'>\n",
            "350 \t highDay68 \t\t\t <class 'numpy.float64'>\n",
            "351 \t openDay68 \t\t\t <class 'numpy.float64'>\n",
            "352 \t lowDay68 \t\t\t <class 'numpy.float64'>\n",
            "353 \t volumeDay68 \t\t\t <class 'numpy.float64'>\n",
            "354 \t closeDay69 \t\t\t <class 'numpy.float64'>\n",
            "355 \t highDay69 \t\t\t <class 'numpy.float64'>\n",
            "356 \t openDay69 \t\t\t <class 'numpy.float64'>\n",
            "357 \t lowDay69 \t\t\t <class 'numpy.float64'>\n",
            "358 \t volumeDay69 \t\t\t <class 'numpy.float64'>\n",
            "359 \t closeDay70 \t\t\t <class 'numpy.float64'>\n",
            "360 \t highDay70 \t\t\t <class 'numpy.float64'>\n",
            "361 \t openDay70 \t\t\t <class 'numpy.float64'>\n",
            "362 \t lowDay70 \t\t\t <class 'numpy.float64'>\n",
            "363 \t volumeDay70 \t\t\t <class 'numpy.float64'>\n",
            "364 \t closeDay71 \t\t\t <class 'numpy.float64'>\n",
            "365 \t highDay71 \t\t\t <class 'numpy.float64'>\n",
            "366 \t openDay71 \t\t\t <class 'numpy.float64'>\n",
            "367 \t lowDay71 \t\t\t <class 'numpy.float64'>\n",
            "368 \t volumeDay71 \t\t\t <class 'numpy.float64'>\n",
            "369 \t closeDay72 \t\t\t <class 'numpy.float64'>\n",
            "370 \t highDay72 \t\t\t <class 'numpy.float64'>\n",
            "371 \t openDay72 \t\t\t <class 'numpy.float64'>\n",
            "372 \t lowDay72 \t\t\t <class 'numpy.float64'>\n",
            "373 \t volumeDay72 \t\t\t <class 'numpy.float64'>\n",
            "374 \t closeDay73 \t\t\t <class 'numpy.float64'>\n",
            "375 \t highDay73 \t\t\t <class 'numpy.float64'>\n",
            "376 \t openDay73 \t\t\t <class 'numpy.float64'>\n",
            "377 \t lowDay73 \t\t\t <class 'numpy.float64'>\n",
            "378 \t volumeDay73 \t\t\t <class 'numpy.float64'>\n",
            "379 \t closeDay74 \t\t\t <class 'numpy.float64'>\n",
            "380 \t highDay74 \t\t\t <class 'numpy.float64'>\n",
            "381 \t openDay74 \t\t\t <class 'numpy.float64'>\n",
            "382 \t lowDay74 \t\t\t <class 'numpy.float64'>\n",
            "383 \t volumeDay74 \t\t\t <class 'numpy.float64'>\n",
            "384 \t closeDay75 \t\t\t <class 'numpy.float64'>\n",
            "385 \t highDay75 \t\t\t <class 'numpy.float64'>\n",
            "386 \t openDay75 \t\t\t <class 'numpy.float64'>\n",
            "387 \t lowDay75 \t\t\t <class 'numpy.float64'>\n",
            "388 \t volumeDay75 \t\t\t <class 'numpy.float64'>\n",
            "389 \t closeDay76 \t\t\t <class 'numpy.float64'>\n",
            "390 \t highDay76 \t\t\t <class 'numpy.float64'>\n",
            "391 \t openDay76 \t\t\t <class 'numpy.float64'>\n",
            "392 \t lowDay76 \t\t\t <class 'numpy.float64'>\n",
            "393 \t volumeDay76 \t\t\t <class 'numpy.float64'>\n",
            "394 \t closeDay77 \t\t\t <class 'numpy.float64'>\n",
            "395 \t highDay77 \t\t\t <class 'numpy.float64'>\n",
            "396 \t openDay77 \t\t\t <class 'numpy.float64'>\n",
            "397 \t lowDay77 \t\t\t <class 'numpy.float64'>\n",
            "398 \t volumeDay77 \t\t\t <class 'numpy.float64'>\n",
            "399 \t closeDay78 \t\t\t <class 'numpy.float64'>\n",
            "400 \t highDay78 \t\t\t <class 'numpy.float64'>\n",
            "401 \t openDay78 \t\t\t <class 'numpy.float64'>\n",
            "402 \t lowDay78 \t\t\t <class 'numpy.float64'>\n",
            "403 \t volumeDay78 \t\t\t <class 'numpy.float64'>\n",
            "404 \t closeDay79 \t\t\t <class 'numpy.float64'>\n",
            "405 \t highDay79 \t\t\t <class 'numpy.float64'>\n",
            "406 \t openDay79 \t\t\t <class 'numpy.float64'>\n",
            "407 \t lowDay79 \t\t\t <class 'numpy.float64'>\n",
            "408 \t volumeDay79 \t\t\t <class 'numpy.float64'>\n",
            "409 \t closeDay80 \t\t\t <class 'numpy.float64'>\n",
            "410 \t highDay80 \t\t\t <class 'numpy.float64'>\n",
            "411 \t openDay80 \t\t\t <class 'numpy.float64'>\n",
            "412 \t lowDay80 \t\t\t <class 'numpy.float64'>\n",
            "413 \t volumeDay80 \t\t\t <class 'numpy.float64'>\n",
            "414 \t closeDay81 \t\t\t <class 'numpy.float64'>\n",
            "415 \t highDay81 \t\t\t <class 'numpy.float64'>\n",
            "416 \t openDay81 \t\t\t <class 'numpy.float64'>\n",
            "417 \t lowDay81 \t\t\t <class 'numpy.float64'>\n",
            "418 \t volumeDay81 \t\t\t <class 'numpy.float64'>\n",
            "419 \t closeDay82 \t\t\t <class 'numpy.float64'>\n",
            "420 \t highDay82 \t\t\t <class 'numpy.float64'>\n",
            "421 \t openDay82 \t\t\t <class 'numpy.float64'>\n",
            "422 \t lowDay82 \t\t\t <class 'numpy.float64'>\n",
            "423 \t volumeDay82 \t\t\t <class 'numpy.float64'>\n",
            "424 \t closeDay83 \t\t\t <class 'numpy.float64'>\n",
            "425 \t highDay83 \t\t\t <class 'numpy.float64'>\n",
            "426 \t openDay83 \t\t\t <class 'numpy.float64'>\n",
            "427 \t lowDay83 \t\t\t <class 'numpy.float64'>\n",
            "428 \t volumeDay83 \t\t\t <class 'numpy.float64'>\n",
            "429 \t closeDay84 \t\t\t <class 'numpy.float64'>\n",
            "430 \t highDay84 \t\t\t <class 'numpy.float64'>\n",
            "431 \t openDay84 \t\t\t <class 'numpy.float64'>\n",
            "432 \t lowDay84 \t\t\t <class 'numpy.float64'>\n",
            "433 \t volumeDay84 \t\t\t <class 'numpy.float64'>\n",
            "434 \t closeDay85 \t\t\t <class 'numpy.float64'>\n",
            "435 \t highDay85 \t\t\t <class 'numpy.float64'>\n",
            "436 \t openDay85 \t\t\t <class 'numpy.float64'>\n",
            "437 \t lowDay85 \t\t\t <class 'numpy.float64'>\n",
            "438 \t volumeDay85 \t\t\t <class 'numpy.float64'>\n",
            "439 \t closeDay86 \t\t\t <class 'numpy.float64'>\n",
            "440 \t highDay86 \t\t\t <class 'numpy.float64'>\n",
            "441 \t openDay86 \t\t\t <class 'numpy.float64'>\n",
            "442 \t lowDay86 \t\t\t <class 'numpy.float64'>\n",
            "443 \t volumeDay86 \t\t\t <class 'numpy.float64'>\n",
            "444 \t closeDay87 \t\t\t <class 'numpy.float64'>\n",
            "445 \t highDay87 \t\t\t <class 'numpy.float64'>\n",
            "446 \t openDay87 \t\t\t <class 'numpy.float64'>\n",
            "447 \t lowDay87 \t\t\t <class 'numpy.float64'>\n",
            "448 \t volumeDay87 \t\t\t <class 'numpy.float64'>\n",
            "449 \t closeDay88 \t\t\t <class 'numpy.float64'>\n",
            "450 \t highDay88 \t\t\t <class 'numpy.float64'>\n",
            "451 \t openDay88 \t\t\t <class 'numpy.float64'>\n",
            "452 \t lowDay88 \t\t\t <class 'numpy.float64'>\n",
            "453 \t volumeDay88 \t\t\t <class 'numpy.float64'>\n",
            "454 \t closeDay89 \t\t\t <class 'numpy.float64'>\n",
            "455 \t highDay89 \t\t\t <class 'numpy.float64'>\n",
            "456 \t openDay89 \t\t\t <class 'numpy.float64'>\n",
            "457 \t lowDay89 \t\t\t <class 'numpy.float64'>\n",
            "458 \t volumeDay89 \t\t\t <class 'numpy.float64'>\n",
            "459 \t closeDay90 \t\t\t <class 'numpy.float64'>\n",
            "460 \t highDay90 \t\t\t <class 'numpy.float64'>\n",
            "461 \t openDay90 \t\t\t <class 'numpy.float64'>\n",
            "462 \t lowDay90 \t\t\t <class 'numpy.float64'>\n",
            "463 \t volumeDay90 \t\t\t <class 'numpy.float64'>\n",
            "464 \t closeDay91 \t\t\t <class 'numpy.float64'>\n",
            "465 \t highDay91 \t\t\t <class 'numpy.float64'>\n",
            "466 \t openDay91 \t\t\t <class 'numpy.float64'>\n",
            "467 \t lowDay91 \t\t\t <class 'numpy.float64'>\n",
            "468 \t volumeDay91 \t\t\t <class 'numpy.float64'>\n",
            "469 \t closeDay92 \t\t\t <class 'numpy.float64'>\n",
            "470 \t highDay92 \t\t\t <class 'numpy.float64'>\n",
            "471 \t openDay92 \t\t\t <class 'numpy.float64'>\n",
            "472 \t lowDay92 \t\t\t <class 'numpy.float64'>\n",
            "473 \t volumeDay92 \t\t\t <class 'numpy.float64'>\n",
            "474 \t closeDay93 \t\t\t <class 'numpy.float64'>\n",
            "475 \t highDay93 \t\t\t <class 'numpy.float64'>\n",
            "476 \t openDay93 \t\t\t <class 'numpy.float64'>\n",
            "477 \t lowDay93 \t\t\t <class 'numpy.float64'>\n",
            "478 \t volumeDay93 \t\t\t <class 'numpy.float64'>\n",
            "479 \t closeDay94 \t\t\t <class 'numpy.float64'>\n",
            "480 \t highDay94 \t\t\t <class 'numpy.float64'>\n",
            "481 \t openDay94 \t\t\t <class 'numpy.float64'>\n",
            "482 \t lowDay94 \t\t\t <class 'numpy.float64'>\n",
            "483 \t volumeDay94 \t\t\t <class 'numpy.float64'>\n",
            "484 \t closeDay95 \t\t\t <class 'numpy.float64'>\n",
            "485 \t highDay95 \t\t\t <class 'numpy.float64'>\n",
            "486 \t openDay95 \t\t\t <class 'numpy.float64'>\n",
            "487 \t lowDay95 \t\t\t <class 'numpy.float64'>\n",
            "488 \t volumeDay95 \t\t\t <class 'numpy.float64'>\n",
            "489 \t closeDay96 \t\t\t <class 'numpy.float64'>\n",
            "490 \t highDay96 \t\t\t <class 'numpy.float64'>\n",
            "491 \t openDay96 \t\t\t <class 'numpy.float64'>\n",
            "492 \t lowDay96 \t\t\t <class 'numpy.float64'>\n",
            "493 \t volumeDay96 \t\t\t <class 'numpy.float64'>\n",
            "494 \t closeDay97 \t\t\t <class 'numpy.float64'>\n",
            "495 \t highDay97 \t\t\t <class 'numpy.float64'>\n",
            "496 \t openDay97 \t\t\t <class 'numpy.float64'>\n",
            "497 \t lowDay97 \t\t\t <class 'numpy.float64'>\n",
            "498 \t volumeDay97 \t\t\t <class 'numpy.float64'>\n",
            "499 \t closeDay98 \t\t\t <class 'numpy.float64'>\n",
            "500 \t highDay98 \t\t\t <class 'numpy.float64'>\n",
            "501 \t openDay98 \t\t\t <class 'numpy.float64'>\n",
            "502 \t lowDay98 \t\t\t <class 'numpy.float64'>\n",
            "503 \t volumeDay98 \t\t\t <class 'numpy.float64'>\n",
            "504 \t closeDay99 \t\t\t <class 'numpy.float64'>\n",
            "505 \t highDay99 \t\t\t <class 'numpy.float64'>\n",
            "506 \t openDay99 \t\t\t <class 'numpy.float64'>\n",
            "507 \t lowDay99 \t\t\t <class 'numpy.float64'>\n",
            "508 \t volumeDay99 \t\t\t <class 'numpy.float64'>\n",
            "509 \t closeDay100 \t\t\t <class 'numpy.float64'>\n",
            "510 \t highDay100 \t\t\t <class 'numpy.float64'>\n",
            "511 \t openDay100 \t\t\t <class 'numpy.float64'>\n",
            "512 \t lowDay100 \t\t\t <class 'numpy.float64'>\n",
            "513 \t volumeDay100 \t\t\t <class 'numpy.float64'>\n",
            "514 \t closeDay101 \t\t\t <class 'numpy.float64'>\n",
            "515 \t highDay101 \t\t\t <class 'numpy.float64'>\n",
            "516 \t openDay101 \t\t\t <class 'numpy.float64'>\n",
            "517 \t lowDay101 \t\t\t <class 'numpy.float64'>\n",
            "518 \t volumeDay101 \t\t\t <class 'numpy.float64'>\n",
            "519 \t closeDay102 \t\t\t <class 'numpy.float64'>\n",
            "520 \t highDay102 \t\t\t <class 'numpy.float64'>\n",
            "521 \t openDay102 \t\t\t <class 'numpy.float64'>\n",
            "522 \t lowDay102 \t\t\t <class 'numpy.float64'>\n",
            "523 \t volumeDay102 \t\t\t <class 'numpy.float64'>\n",
            "524 \t closeDay103 \t\t\t <class 'numpy.float64'>\n",
            "525 \t highDay103 \t\t\t <class 'numpy.float64'>\n",
            "526 \t openDay103 \t\t\t <class 'numpy.float64'>\n",
            "527 \t lowDay103 \t\t\t <class 'numpy.float64'>\n",
            "528 \t volumeDay103 \t\t\t <class 'numpy.float64'>\n",
            "529 \t closeDay104 \t\t\t <class 'numpy.float64'>\n",
            "530 \t highDay104 \t\t\t <class 'numpy.float64'>\n",
            "531 \t openDay104 \t\t\t <class 'numpy.float64'>\n",
            "532 \t lowDay104 \t\t\t <class 'numpy.float64'>\n",
            "533 \t volumeDay104 \t\t\t <class 'numpy.float64'>\n",
            "534 \t closeDay105 \t\t\t <class 'numpy.float64'>\n",
            "535 \t highDay105 \t\t\t <class 'numpy.float64'>\n",
            "536 \t openDay105 \t\t\t <class 'numpy.float64'>\n",
            "537 \t lowDay105 \t\t\t <class 'numpy.float64'>\n",
            "538 \t volumeDay105 \t\t\t <class 'numpy.float64'>\n",
            "539 \t closeDay106 \t\t\t <class 'numpy.float64'>\n",
            "540 \t highDay106 \t\t\t <class 'numpy.float64'>\n",
            "541 \t openDay106 \t\t\t <class 'numpy.float64'>\n",
            "542 \t lowDay106 \t\t\t <class 'numpy.float64'>\n",
            "543 \t volumeDay106 \t\t\t <class 'numpy.float64'>\n",
            "544 \t closeDay107 \t\t\t <class 'numpy.float64'>\n",
            "545 \t highDay107 \t\t\t <class 'numpy.float64'>\n",
            "546 \t openDay107 \t\t\t <class 'numpy.float64'>\n",
            "547 \t lowDay107 \t\t\t <class 'numpy.float64'>\n",
            "548 \t volumeDay107 \t\t\t <class 'numpy.float64'>\n",
            "549 \t closeDay108 \t\t\t <class 'numpy.float64'>\n",
            "550 \t highDay108 \t\t\t <class 'numpy.float64'>\n",
            "551 \t openDay108 \t\t\t <class 'numpy.float64'>\n",
            "552 \t lowDay108 \t\t\t <class 'numpy.float64'>\n",
            "553 \t volumeDay108 \t\t\t <class 'numpy.float64'>\n",
            "554 \t closeDay109 \t\t\t <class 'numpy.float64'>\n",
            "555 \t highDay109 \t\t\t <class 'numpy.float64'>\n",
            "556 \t openDay109 \t\t\t <class 'numpy.float64'>\n",
            "557 \t lowDay109 \t\t\t <class 'numpy.float64'>\n",
            "558 \t volumeDay109 \t\t\t <class 'numpy.float64'>\n",
            "559 \t closeDay110 \t\t\t <class 'numpy.float64'>\n",
            "560 \t highDay110 \t\t\t <class 'numpy.float64'>\n",
            "561 \t openDay110 \t\t\t <class 'numpy.float64'>\n",
            "562 \t lowDay110 \t\t\t <class 'numpy.float64'>\n",
            "563 \t volumeDay110 \t\t\t <class 'numpy.float64'>\n",
            "564 \t closeDay111 \t\t\t <class 'numpy.float64'>\n",
            "565 \t highDay111 \t\t\t <class 'numpy.float64'>\n",
            "566 \t openDay111 \t\t\t <class 'numpy.float64'>\n",
            "567 \t lowDay111 \t\t\t <class 'numpy.float64'>\n",
            "568 \t volumeDay111 \t\t\t <class 'numpy.float64'>\n",
            "569 \t closeDay112 \t\t\t <class 'numpy.float64'>\n",
            "570 \t highDay112 \t\t\t <class 'numpy.float64'>\n",
            "571 \t openDay112 \t\t\t <class 'numpy.float64'>\n",
            "572 \t lowDay112 \t\t\t <class 'numpy.float64'>\n",
            "573 \t volumeDay112 \t\t\t <class 'numpy.float64'>\n",
            "574 \t closeDay113 \t\t\t <class 'numpy.float64'>\n",
            "575 \t highDay113 \t\t\t <class 'numpy.float64'>\n",
            "576 \t openDay113 \t\t\t <class 'numpy.float64'>\n",
            "577 \t lowDay113 \t\t\t <class 'numpy.float64'>\n",
            "578 \t volumeDay113 \t\t\t <class 'numpy.float64'>\n",
            "579 \t closeDay114 \t\t\t <class 'numpy.float64'>\n",
            "580 \t highDay114 \t\t\t <class 'numpy.float64'>\n",
            "581 \t openDay114 \t\t\t <class 'numpy.float64'>\n",
            "582 \t lowDay114 \t\t\t <class 'numpy.float64'>\n",
            "583 \t volumeDay114 \t\t\t <class 'numpy.float64'>\n",
            "584 \t closeDay115 \t\t\t <class 'numpy.float64'>\n",
            "585 \t highDay115 \t\t\t <class 'numpy.float64'>\n",
            "586 \t openDay115 \t\t\t <class 'numpy.float64'>\n",
            "587 \t lowDay115 \t\t\t <class 'numpy.float64'>\n",
            "588 \t volumeDay115 \t\t\t <class 'numpy.float64'>\n",
            "589 \t closeDay116 \t\t\t <class 'numpy.float64'>\n",
            "590 \t highDay116 \t\t\t <class 'numpy.float64'>\n",
            "591 \t openDay116 \t\t\t <class 'numpy.float64'>\n",
            "592 \t lowDay116 \t\t\t <class 'numpy.float64'>\n",
            "593 \t volumeDay116 \t\t\t <class 'numpy.float64'>\n",
            "594 \t closeDay117 \t\t\t <class 'numpy.float64'>\n",
            "595 \t highDay117 \t\t\t <class 'numpy.float64'>\n",
            "596 \t openDay117 \t\t\t <class 'numpy.float64'>\n",
            "597 \t lowDay117 \t\t\t <class 'numpy.float64'>\n",
            "598 \t volumeDay117 \t\t\t <class 'numpy.float64'>\n",
            "599 \t closeDay118 \t\t\t <class 'numpy.float64'>\n",
            "600 \t highDay118 \t\t\t <class 'numpy.float64'>\n",
            "601 \t openDay118 \t\t\t <class 'numpy.float64'>\n",
            "602 \t lowDay118 \t\t\t <class 'numpy.float64'>\n",
            "603 \t volumeDay118 \t\t\t <class 'numpy.float64'>\n",
            "604 \t closeDay119 \t\t\t <class 'numpy.float64'>\n",
            "605 \t highDay119 \t\t\t <class 'numpy.float64'>\n",
            "606 \t openDay119 \t\t\t <class 'numpy.float64'>\n",
            "607 \t lowDay119 \t\t\t <class 'numpy.float64'>\n",
            "608 \t volumeDay119 \t\t\t <class 'numpy.float64'>\n",
            "609 \t closeDay120 \t\t\t <class 'numpy.float64'>\n",
            "610 \t highDay120 \t\t\t <class 'numpy.float64'>\n",
            "611 \t openDay120 \t\t\t <class 'numpy.float64'>\n",
            "612 \t lowDay120 \t\t\t <class 'numpy.float64'>\n",
            "613 \t volumeDay120 \t\t\t <class 'numpy.float64'>\n",
            "614 \t closeDay121 \t\t\t <class 'numpy.float64'>\n",
            "615 \t highDay121 \t\t\t <class 'numpy.float64'>\n",
            "616 \t openDay121 \t\t\t <class 'numpy.float64'>\n",
            "617 \t lowDay121 \t\t\t <class 'numpy.float64'>\n",
            "618 \t volumeDay121 \t\t\t <class 'numpy.float64'>\n",
            "619 \t closeDay122 \t\t\t <class 'numpy.float64'>\n",
            "620 \t highDay122 \t\t\t <class 'numpy.float64'>\n",
            "621 \t openDay122 \t\t\t <class 'numpy.float64'>\n",
            "622 \t lowDay122 \t\t\t <class 'numpy.float64'>\n",
            "623 \t volumeDay122 \t\t\t <class 'numpy.float64'>\n",
            "624 \t closeDay123 \t\t\t <class 'numpy.float64'>\n",
            "625 \t highDay123 \t\t\t <class 'numpy.float64'>\n",
            "626 \t openDay123 \t\t\t <class 'numpy.float64'>\n",
            "627 \t lowDay123 \t\t\t <class 'numpy.float64'>\n",
            "628 \t volumeDay123 \t\t\t <class 'numpy.float64'>\n",
            "629 \t closeDay124 \t\t\t <class 'numpy.float64'>\n",
            "630 \t highDay124 \t\t\t <class 'numpy.float64'>\n",
            "631 \t openDay124 \t\t\t <class 'numpy.float64'>\n",
            "632 \t lowDay124 \t\t\t <class 'numpy.float64'>\n",
            "633 \t volumeDay124 \t\t\t <class 'numpy.float64'>\n",
            "634 \t closeDay125 \t\t\t <class 'numpy.float64'>\n",
            "635 \t highDay125 \t\t\t <class 'numpy.float64'>\n",
            "636 \t openDay125 \t\t\t <class 'numpy.float64'>\n",
            "637 \t lowDay125 \t\t\t <class 'numpy.float64'>\n",
            "638 \t volumeDay125 \t\t\t <class 'numpy.float64'>\n",
            "639 \t closeDay126 \t\t\t <class 'numpy.float64'>\n",
            "640 \t highDay126 \t\t\t <class 'numpy.float64'>\n",
            "641 \t openDay126 \t\t\t <class 'numpy.float64'>\n",
            "642 \t lowDay126 \t\t\t <class 'numpy.float64'>\n",
            "643 \t volumeDay126 \t\t\t <class 'numpy.float64'>\n",
            "644 \t closeDay127 \t\t\t <class 'numpy.float64'>\n",
            "645 \t highDay127 \t\t\t <class 'numpy.float64'>\n",
            "646 \t openDay127 \t\t\t <class 'numpy.float64'>\n",
            "647 \t lowDay127 \t\t\t <class 'numpy.float64'>\n",
            "648 \t volumeDay127 \t\t\t <class 'numpy.float64'>\n",
            "649 \t closeDay128 \t\t\t <class 'numpy.float64'>\n",
            "650 \t highDay128 \t\t\t <class 'numpy.float64'>\n",
            "651 \t openDay128 \t\t\t <class 'numpy.float64'>\n",
            "652 \t lowDay128 \t\t\t <class 'numpy.float64'>\n",
            "653 \t volumeDay128 \t\t\t <class 'numpy.float64'>\n",
            "654 \t closeDay129 \t\t\t <class 'numpy.float64'>\n",
            "655 \t highDay129 \t\t\t <class 'numpy.float64'>\n",
            "656 \t openDay129 \t\t\t <class 'numpy.float64'>\n",
            "657 \t lowDay129 \t\t\t <class 'numpy.float64'>\n",
            "658 \t volumeDay129 \t\t\t <class 'numpy.float64'>\n",
            "659 \t closeDay130 \t\t\t <class 'numpy.float64'>\n",
            "660 \t highDay130 \t\t\t <class 'numpy.float64'>\n",
            "661 \t openDay130 \t\t\t <class 'numpy.float64'>\n",
            "662 \t lowDay130 \t\t\t <class 'numpy.float64'>\n",
            "663 \t volumeDay130 \t\t\t <class 'numpy.float64'>\n",
            "664 \t closeDay131 \t\t\t <class 'numpy.float64'>\n",
            "665 \t highDay131 \t\t\t <class 'numpy.float64'>\n",
            "666 \t openDay131 \t\t\t <class 'numpy.float64'>\n",
            "667 \t lowDay131 \t\t\t <class 'numpy.float64'>\n",
            "668 \t volumeDay131 \t\t\t <class 'numpy.float64'>\n",
            "669 \t closeDay132 \t\t\t <class 'numpy.float64'>\n",
            "670 \t highDay132 \t\t\t <class 'numpy.float64'>\n",
            "671 \t openDay132 \t\t\t <class 'numpy.float64'>\n",
            "672 \t lowDay132 \t\t\t <class 'numpy.float64'>\n",
            "673 \t volumeDay132 \t\t\t <class 'numpy.float64'>\n",
            "674 \t closeDay133 \t\t\t <class 'numpy.float64'>\n",
            "675 \t highDay133 \t\t\t <class 'numpy.float64'>\n",
            "676 \t openDay133 \t\t\t <class 'numpy.float64'>\n",
            "677 \t lowDay133 \t\t\t <class 'numpy.float64'>\n",
            "678 \t volumeDay133 \t\t\t <class 'numpy.float64'>\n",
            "679 \t closeDay134 \t\t\t <class 'numpy.float64'>\n",
            "680 \t highDay134 \t\t\t <class 'numpy.float64'>\n",
            "681 \t openDay134 \t\t\t <class 'numpy.float64'>\n",
            "682 \t lowDay134 \t\t\t <class 'numpy.float64'>\n",
            "683 \t volumeDay134 \t\t\t <class 'numpy.float64'>\n",
            "684 \t closeDay135 \t\t\t <class 'numpy.float64'>\n",
            "685 \t highDay135 \t\t\t <class 'numpy.float64'>\n",
            "686 \t openDay135 \t\t\t <class 'numpy.float64'>\n",
            "687 \t lowDay135 \t\t\t <class 'numpy.float64'>\n",
            "688 \t volumeDay135 \t\t\t <class 'numpy.float64'>\n",
            "689 \t closeDay136 \t\t\t <class 'numpy.float64'>\n",
            "690 \t highDay136 \t\t\t <class 'numpy.float64'>\n",
            "691 \t openDay136 \t\t\t <class 'numpy.float64'>\n",
            "692 \t lowDay136 \t\t\t <class 'numpy.float64'>\n",
            "693 \t volumeDay136 \t\t\t <class 'numpy.float64'>\n",
            "694 \t closeDay137 \t\t\t <class 'numpy.float64'>\n",
            "695 \t highDay137 \t\t\t <class 'numpy.float64'>\n",
            "696 \t openDay137 \t\t\t <class 'numpy.float64'>\n",
            "697 \t lowDay137 \t\t\t <class 'numpy.float64'>\n",
            "698 \t volumeDay137 \t\t\t <class 'numpy.float64'>\n",
            "699 \t closeDay138 \t\t\t <class 'numpy.float64'>\n",
            "700 \t highDay138 \t\t\t <class 'numpy.float64'>\n",
            "701 \t openDay138 \t\t\t <class 'numpy.float64'>\n",
            "702 \t lowDay138 \t\t\t <class 'numpy.float64'>\n",
            "703 \t volumeDay138 \t\t\t <class 'numpy.float64'>\n",
            "704 \t closeDay139 \t\t\t <class 'numpy.float64'>\n",
            "705 \t highDay139 \t\t\t <class 'numpy.float64'>\n",
            "706 \t openDay139 \t\t\t <class 'numpy.float64'>\n",
            "707 \t lowDay139 \t\t\t <class 'numpy.float64'>\n",
            "708 \t volumeDay139 \t\t\t <class 'numpy.float64'>\n",
            "709 \t closeDay140 \t\t\t <class 'numpy.float64'>\n",
            "710 \t highDay140 \t\t\t <class 'numpy.float64'>\n",
            "711 \t openDay140 \t\t\t <class 'numpy.float64'>\n",
            "712 \t lowDay140 \t\t\t <class 'numpy.float64'>\n",
            "713 \t volumeDay140 \t\t\t <class 'numpy.float64'>\n",
            "714 \t closeDay141 \t\t\t <class 'numpy.float64'>\n",
            "715 \t highDay141 \t\t\t <class 'numpy.float64'>\n",
            "716 \t openDay141 \t\t\t <class 'numpy.float64'>\n",
            "717 \t lowDay141 \t\t\t <class 'numpy.float64'>\n",
            "718 \t volumeDay141 \t\t\t <class 'numpy.float64'>\n",
            "719 \t closeDay142 \t\t\t <class 'numpy.float64'>\n",
            "720 \t highDay142 \t\t\t <class 'numpy.float64'>\n",
            "721 \t openDay142 \t\t\t <class 'numpy.float64'>\n",
            "722 \t lowDay142 \t\t\t <class 'numpy.float64'>\n",
            "723 \t volumeDay142 \t\t\t <class 'numpy.float64'>\n",
            "724 \t closeDay143 \t\t\t <class 'numpy.float64'>\n",
            "725 \t highDay143 \t\t\t <class 'numpy.float64'>\n",
            "726 \t openDay143 \t\t\t <class 'numpy.float64'>\n",
            "727 \t lowDay143 \t\t\t <class 'numpy.float64'>\n",
            "728 \t volumeDay143 \t\t\t <class 'numpy.float64'>\n",
            "729 \t closeDay144 \t\t\t <class 'numpy.float64'>\n",
            "730 \t highDay144 \t\t\t <class 'numpy.float64'>\n",
            "731 \t openDay144 \t\t\t <class 'numpy.float64'>\n",
            "732 \t lowDay144 \t\t\t <class 'numpy.float64'>\n",
            "733 \t volumeDay144 \t\t\t <class 'numpy.float64'>\n",
            "734 \t closeDay145 \t\t\t <class 'numpy.float64'>\n",
            "735 \t highDay145 \t\t\t <class 'numpy.float64'>\n",
            "736 \t openDay145 \t\t\t <class 'numpy.float64'>\n",
            "737 \t lowDay145 \t\t\t <class 'numpy.float64'>\n",
            "738 \t volumeDay145 \t\t\t <class 'numpy.float64'>\n",
            "739 \t closeDay146 \t\t\t <class 'numpy.float64'>\n",
            "740 \t highDay146 \t\t\t <class 'numpy.float64'>\n",
            "741 \t openDay146 \t\t\t <class 'numpy.float64'>\n",
            "742 \t lowDay146 \t\t\t <class 'numpy.float64'>\n",
            "743 \t volumeDay146 \t\t\t <class 'numpy.float64'>\n",
            "744 \t closeDay147 \t\t\t <class 'numpy.float64'>\n",
            "745 \t highDay147 \t\t\t <class 'numpy.float64'>\n",
            "746 \t openDay147 \t\t\t <class 'numpy.float64'>\n",
            "747 \t lowDay147 \t\t\t <class 'numpy.float64'>\n",
            "748 \t volumeDay147 \t\t\t <class 'numpy.float64'>\n",
            "749 \t closeDay148 \t\t\t <class 'numpy.float64'>\n",
            "750 \t highDay148 \t\t\t <class 'numpy.float64'>\n",
            "751 \t openDay148 \t\t\t <class 'numpy.float64'>\n",
            "752 \t lowDay148 \t\t\t <class 'numpy.float64'>\n",
            "753 \t volumeDay148 \t\t\t <class 'numpy.float64'>\n",
            "754 \t closeDay149 \t\t\t <class 'numpy.float64'>\n",
            "755 \t highDay149 \t\t\t <class 'numpy.float64'>\n",
            "756 \t openDay149 \t\t\t <class 'numpy.float64'>\n",
            "757 \t lowDay149 \t\t\t <class 'numpy.float64'>\n",
            "758 \t volumeDay149 \t\t\t <class 'numpy.float64'>\n",
            "759 \t closeDay150 \t\t\t <class 'numpy.float64'>\n",
            "760 \t highDay150 \t\t\t <class 'numpy.float64'>\n",
            "761 \t openDay150 \t\t\t <class 'numpy.float64'>\n",
            "762 \t lowDay150 \t\t\t <class 'numpy.float64'>\n",
            "763 \t volumeDay150 \t\t\t <class 'numpy.float64'>\n",
            "764 \t closeDay151 \t\t\t <class 'numpy.float64'>\n",
            "765 \t highDay151 \t\t\t <class 'numpy.float64'>\n",
            "766 \t openDay151 \t\t\t <class 'numpy.float64'>\n",
            "767 \t lowDay151 \t\t\t <class 'numpy.float64'>\n",
            "768 \t volumeDay151 \t\t\t <class 'numpy.float64'>\n",
            "769 \t closeDay152 \t\t\t <class 'numpy.float64'>\n",
            "770 \t highDay152 \t\t\t <class 'numpy.float64'>\n",
            "771 \t openDay152 \t\t\t <class 'numpy.float64'>\n",
            "772 \t lowDay152 \t\t\t <class 'numpy.float64'>\n",
            "773 \t volumeDay152 \t\t\t <class 'numpy.float64'>\n",
            "774 \t closeDay153 \t\t\t <class 'numpy.float64'>\n",
            "775 \t highDay153 \t\t\t <class 'numpy.float64'>\n",
            "776 \t openDay153 \t\t\t <class 'numpy.float64'>\n",
            "777 \t lowDay153 \t\t\t <class 'numpy.float64'>\n",
            "778 \t volumeDay153 \t\t\t <class 'numpy.float64'>\n",
            "779 \t closeDay154 \t\t\t <class 'numpy.float64'>\n",
            "780 \t highDay154 \t\t\t <class 'numpy.float64'>\n",
            "781 \t openDay154 \t\t\t <class 'numpy.float64'>\n",
            "782 \t lowDay154 \t\t\t <class 'numpy.float64'>\n",
            "783 \t volumeDay154 \t\t\t <class 'numpy.float64'>\n",
            "784 \t closeDay155 \t\t\t <class 'numpy.float64'>\n",
            "785 \t highDay155 \t\t\t <class 'numpy.float64'>\n",
            "786 \t openDay155 \t\t\t <class 'numpy.float64'>\n",
            "787 \t lowDay155 \t\t\t <class 'numpy.float64'>\n",
            "788 \t volumeDay155 \t\t\t <class 'numpy.float64'>\n",
            "789 \t closeDay156 \t\t\t <class 'numpy.float64'>\n",
            "790 \t highDay156 \t\t\t <class 'numpy.float64'>\n",
            "791 \t openDay156 \t\t\t <class 'numpy.float64'>\n",
            "792 \t lowDay156 \t\t\t <class 'numpy.float64'>\n",
            "793 \t volumeDay156 \t\t\t <class 'numpy.float64'>\n",
            "794 \t closeDay157 \t\t\t <class 'numpy.float64'>\n",
            "795 \t highDay157 \t\t\t <class 'numpy.float64'>\n",
            "796 \t openDay157 \t\t\t <class 'numpy.float64'>\n",
            "797 \t lowDay157 \t\t\t <class 'numpy.float64'>\n",
            "798 \t volumeDay157 \t\t\t <class 'numpy.float64'>\n",
            "799 \t closeDay158 \t\t\t <class 'numpy.float64'>\n",
            "800 \t highDay158 \t\t\t <class 'numpy.float64'>\n",
            "801 \t openDay158 \t\t\t <class 'numpy.float64'>\n",
            "802 \t lowDay158 \t\t\t <class 'numpy.float64'>\n",
            "803 \t volumeDay158 \t\t\t <class 'numpy.float64'>\n",
            "804 \t closeDay159 \t\t\t <class 'numpy.float64'>\n",
            "805 \t highDay159 \t\t\t <class 'numpy.float64'>\n",
            "806 \t openDay159 \t\t\t <class 'numpy.float64'>\n",
            "807 \t lowDay159 \t\t\t <class 'numpy.float64'>\n",
            "808 \t volumeDay159 \t\t\t <class 'numpy.float64'>\n",
            "809 \t closeDay160 \t\t\t <class 'numpy.float64'>\n",
            "810 \t highDay160 \t\t\t <class 'numpy.float64'>\n",
            "811 \t openDay160 \t\t\t <class 'numpy.float64'>\n",
            "812 \t lowDay160 \t\t\t <class 'numpy.float64'>\n",
            "813 \t volumeDay160 \t\t\t <class 'numpy.float64'>\n",
            "814 \t closeDay161 \t\t\t <class 'numpy.float64'>\n",
            "815 \t highDay161 \t\t\t <class 'numpy.float64'>\n",
            "816 \t openDay161 \t\t\t <class 'numpy.float64'>\n",
            "817 \t lowDay161 \t\t\t <class 'numpy.float64'>\n",
            "818 \t volumeDay161 \t\t\t <class 'numpy.float64'>\n",
            "819 \t closeDay162 \t\t\t <class 'numpy.float64'>\n",
            "820 \t highDay162 \t\t\t <class 'numpy.float64'>\n",
            "821 \t openDay162 \t\t\t <class 'numpy.float64'>\n",
            "822 \t lowDay162 \t\t\t <class 'numpy.float64'>\n",
            "823 \t volumeDay162 \t\t\t <class 'numpy.float64'>\n",
            "824 \t closeDay163 \t\t\t <class 'numpy.float64'>\n",
            "825 \t highDay163 \t\t\t <class 'numpy.float64'>\n",
            "826 \t openDay163 \t\t\t <class 'numpy.float64'>\n",
            "827 \t lowDay163 \t\t\t <class 'numpy.float64'>\n",
            "828 \t volumeDay163 \t\t\t <class 'numpy.float64'>\n",
            "829 \t closeDay164 \t\t\t <class 'numpy.float64'>\n",
            "830 \t highDay164 \t\t\t <class 'numpy.float64'>\n",
            "831 \t openDay164 \t\t\t <class 'numpy.float64'>\n",
            "832 \t lowDay164 \t\t\t <class 'numpy.float64'>\n",
            "833 \t volumeDay164 \t\t\t <class 'numpy.float64'>\n",
            "834 \t closeDay165 \t\t\t <class 'numpy.float64'>\n",
            "835 \t highDay165 \t\t\t <class 'numpy.float64'>\n",
            "836 \t openDay165 \t\t\t <class 'numpy.float64'>\n",
            "837 \t lowDay165 \t\t\t <class 'numpy.float64'>\n",
            "838 \t volumeDay165 \t\t\t <class 'numpy.float64'>\n",
            "839 \t closeDay166 \t\t\t <class 'numpy.float64'>\n",
            "840 \t highDay166 \t\t\t <class 'numpy.float64'>\n",
            "841 \t openDay166 \t\t\t <class 'numpy.float64'>\n",
            "842 \t lowDay166 \t\t\t <class 'numpy.float64'>\n",
            "843 \t volumeDay166 \t\t\t <class 'numpy.float64'>\n",
            "844 \t closeDay167 \t\t\t <class 'numpy.float64'>\n",
            "845 \t highDay167 \t\t\t <class 'numpy.float64'>\n",
            "846 \t openDay167 \t\t\t <class 'numpy.float64'>\n",
            "847 \t lowDay167 \t\t\t <class 'numpy.float64'>\n",
            "848 \t volumeDay167 \t\t\t <class 'numpy.float64'>\n",
            "849 \t closeDay168 \t\t\t <class 'numpy.float64'>\n",
            "850 \t highDay168 \t\t\t <class 'numpy.float64'>\n",
            "851 \t openDay168 \t\t\t <class 'numpy.float64'>\n",
            "852 \t lowDay168 \t\t\t <class 'numpy.float64'>\n",
            "853 \t volumeDay168 \t\t\t <class 'numpy.float64'>\n",
            "854 \t closeDay169 \t\t\t <class 'numpy.float64'>\n",
            "855 \t highDay169 \t\t\t <class 'numpy.float64'>\n",
            "856 \t openDay169 \t\t\t <class 'numpy.float64'>\n",
            "857 \t lowDay169 \t\t\t <class 'numpy.float64'>\n",
            "858 \t volumeDay169 \t\t\t <class 'numpy.float64'>\n",
            "859 \t closeDay170 \t\t\t <class 'numpy.float64'>\n",
            "860 \t highDay170 \t\t\t <class 'numpy.float64'>\n",
            "861 \t openDay170 \t\t\t <class 'numpy.float64'>\n",
            "862 \t lowDay170 \t\t\t <class 'numpy.float64'>\n",
            "863 \t volumeDay170 \t\t\t <class 'numpy.float64'>\n",
            "864 \t closeDay171 \t\t\t <class 'numpy.float64'>\n",
            "865 \t highDay171 \t\t\t <class 'numpy.float64'>\n",
            "866 \t openDay171 \t\t\t <class 'numpy.float64'>\n",
            "867 \t lowDay171 \t\t\t <class 'numpy.float64'>\n",
            "868 \t volumeDay171 \t\t\t <class 'numpy.float64'>\n",
            "869 \t closeDay172 \t\t\t <class 'numpy.float64'>\n",
            "870 \t highDay172 \t\t\t <class 'numpy.float64'>\n",
            "871 \t openDay172 \t\t\t <class 'numpy.float64'>\n",
            "872 \t lowDay172 \t\t\t <class 'numpy.float64'>\n",
            "873 \t volumeDay172 \t\t\t <class 'numpy.float64'>\n",
            "874 \t closeDay173 \t\t\t <class 'numpy.float64'>\n",
            "875 \t highDay173 \t\t\t <class 'numpy.float64'>\n",
            "876 \t openDay173 \t\t\t <class 'numpy.float64'>\n",
            "877 \t lowDay173 \t\t\t <class 'numpy.float64'>\n",
            "878 \t volumeDay173 \t\t\t <class 'numpy.float64'>\n",
            "879 \t closeDay174 \t\t\t <class 'numpy.float64'>\n",
            "880 \t highDay174 \t\t\t <class 'numpy.float64'>\n",
            "881 \t openDay174 \t\t\t <class 'numpy.float64'>\n",
            "882 \t lowDay174 \t\t\t <class 'numpy.float64'>\n",
            "883 \t volumeDay174 \t\t\t <class 'numpy.float64'>\n",
            "884 \t closeDay175 \t\t\t <class 'numpy.float64'>\n",
            "885 \t highDay175 \t\t\t <class 'numpy.float64'>\n",
            "886 \t openDay175 \t\t\t <class 'numpy.float64'>\n",
            "887 \t lowDay175 \t\t\t <class 'numpy.float64'>\n",
            "888 \t volumeDay175 \t\t\t <class 'numpy.float64'>\n",
            "889 \t closeDay176 \t\t\t <class 'numpy.float64'>\n",
            "890 \t highDay176 \t\t\t <class 'numpy.float64'>\n",
            "891 \t openDay176 \t\t\t <class 'numpy.float64'>\n",
            "892 \t lowDay176 \t\t\t <class 'numpy.float64'>\n",
            "893 \t volumeDay176 \t\t\t <class 'numpy.float64'>\n",
            "894 \t closeDay177 \t\t\t <class 'numpy.float64'>\n",
            "895 \t highDay177 \t\t\t <class 'numpy.float64'>\n",
            "896 \t openDay177 \t\t\t <class 'numpy.float64'>\n",
            "897 \t lowDay177 \t\t\t <class 'numpy.float64'>\n",
            "898 \t volumeDay177 \t\t\t <class 'numpy.float64'>\n",
            "899 \t closeDay178 \t\t\t <class 'numpy.float64'>\n",
            "900 \t highDay178 \t\t\t <class 'numpy.float64'>\n",
            "901 \t openDay178 \t\t\t <class 'numpy.float64'>\n",
            "902 \t lowDay178 \t\t\t <class 'numpy.float64'>\n",
            "903 \t volumeDay178 \t\t\t <class 'numpy.float64'>\n",
            "904 \t closeDay179 \t\t\t <class 'numpy.float64'>\n",
            "905 \t highDay179 \t\t\t <class 'numpy.float64'>\n",
            "906 \t openDay179 \t\t\t <class 'numpy.float64'>\n",
            "907 \t lowDay179 \t\t\t <class 'numpy.float64'>\n",
            "908 \t volumeDay179 \t\t\t <class 'numpy.float64'>\n",
            "909 \t closeDay180 \t\t\t <class 'numpy.float64'>\n",
            "910 \t highDay180 \t\t\t <class 'numpy.float64'>\n",
            "911 \t openDay180 \t\t\t <class 'numpy.float64'>\n",
            "912 \t lowDay180 \t\t\t <class 'numpy.float64'>\n",
            "913 \t volumeDay180 \t\t\t <class 'numpy.float64'>\n",
            "914 \t closeDay181 \t\t\t <class 'numpy.float64'>\n",
            "915 \t highDay181 \t\t\t <class 'numpy.float64'>\n",
            "916 \t openDay181 \t\t\t <class 'numpy.float64'>\n",
            "917 \t lowDay181 \t\t\t <class 'numpy.float64'>\n",
            "918 \t volumeDay181 \t\t\t <class 'numpy.float64'>\n",
            "919 \t closeDay182 \t\t\t <class 'numpy.float64'>\n",
            "920 \t highDay182 \t\t\t <class 'numpy.float64'>\n",
            "921 \t openDay182 \t\t\t <class 'numpy.float64'>\n",
            "922 \t lowDay182 \t\t\t <class 'numpy.float64'>\n",
            "923 \t volumeDay182 \t\t\t <class 'numpy.float64'>\n",
            "924 \t closeDay183 \t\t\t <class 'numpy.float64'>\n",
            "925 \t highDay183 \t\t\t <class 'numpy.float64'>\n",
            "926 \t openDay183 \t\t\t <class 'numpy.float64'>\n",
            "927 \t lowDay183 \t\t\t <class 'numpy.float64'>\n",
            "928 \t volumeDay183 \t\t\t <class 'numpy.float64'>\n",
            "929 \t closeDay184 \t\t\t <class 'numpy.float64'>\n",
            "930 \t highDay184 \t\t\t <class 'numpy.float64'>\n",
            "931 \t openDay184 \t\t\t <class 'numpy.float64'>\n",
            "932 \t lowDay184 \t\t\t <class 'numpy.float64'>\n",
            "933 \t volumeDay184 \t\t\t <class 'numpy.float64'>\n",
            "934 \t closeDay185 \t\t\t <class 'numpy.float64'>\n",
            "935 \t highDay185 \t\t\t <class 'numpy.float64'>\n",
            "936 \t openDay185 \t\t\t <class 'numpy.float64'>\n",
            "937 \t lowDay185 \t\t\t <class 'numpy.float64'>\n",
            "938 \t volumeDay185 \t\t\t <class 'numpy.float64'>\n",
            "939 \t closeDay186 \t\t\t <class 'numpy.float64'>\n",
            "940 \t highDay186 \t\t\t <class 'numpy.float64'>\n",
            "941 \t openDay186 \t\t\t <class 'numpy.float64'>\n",
            "942 \t lowDay186 \t\t\t <class 'numpy.float64'>\n",
            "943 \t volumeDay186 \t\t\t <class 'numpy.float64'>\n",
            "944 \t closeDay187 \t\t\t <class 'numpy.float64'>\n",
            "945 \t highDay187 \t\t\t <class 'numpy.float64'>\n",
            "946 \t openDay187 \t\t\t <class 'numpy.float64'>\n",
            "947 \t lowDay187 \t\t\t <class 'numpy.float64'>\n",
            "948 \t volumeDay187 \t\t\t <class 'numpy.float64'>\n",
            "949 \t closeDay188 \t\t\t <class 'numpy.float64'>\n",
            "950 \t highDay188 \t\t\t <class 'numpy.float64'>\n",
            "951 \t openDay188 \t\t\t <class 'numpy.float64'>\n",
            "952 \t lowDay188 \t\t\t <class 'numpy.float64'>\n",
            "953 \t volumeDay188 \t\t\t <class 'numpy.float64'>\n",
            "954 \t closeDay189 \t\t\t <class 'numpy.float64'>\n",
            "955 \t highDay189 \t\t\t <class 'numpy.float64'>\n",
            "956 \t openDay189 \t\t\t <class 'numpy.float64'>\n",
            "957 \t lowDay189 \t\t\t <class 'numpy.float64'>\n",
            "958 \t volumeDay189 \t\t\t <class 'numpy.float64'>\n",
            "959 \t closeDay190 \t\t\t <class 'numpy.float64'>\n",
            "960 \t highDay190 \t\t\t <class 'numpy.float64'>\n",
            "961 \t openDay190 \t\t\t <class 'numpy.float64'>\n",
            "962 \t lowDay190 \t\t\t <class 'numpy.float64'>\n",
            "963 \t volumeDay190 \t\t\t <class 'numpy.float64'>\n",
            "964 \t closeDay191 \t\t\t <class 'numpy.float64'>\n",
            "965 \t highDay191 \t\t\t <class 'numpy.float64'>\n",
            "966 \t openDay191 \t\t\t <class 'numpy.float64'>\n",
            "967 \t lowDay191 \t\t\t <class 'numpy.float64'>\n",
            "968 \t volumeDay191 \t\t\t <class 'numpy.float64'>\n",
            "969 \t closeDay192 \t\t\t <class 'numpy.float64'>\n",
            "970 \t highDay192 \t\t\t <class 'numpy.float64'>\n",
            "971 \t openDay192 \t\t\t <class 'numpy.float64'>\n",
            "972 \t lowDay192 \t\t\t <class 'numpy.float64'>\n",
            "973 \t volumeDay192 \t\t\t <class 'numpy.float64'>\n",
            "974 \t closeDay193 \t\t\t <class 'numpy.float64'>\n",
            "975 \t highDay193 \t\t\t <class 'numpy.float64'>\n",
            "976 \t openDay193 \t\t\t <class 'numpy.float64'>\n",
            "977 \t lowDay193 \t\t\t <class 'numpy.float64'>\n",
            "978 \t volumeDay193 \t\t\t <class 'numpy.float64'>\n",
            "979 \t closeDay194 \t\t\t <class 'numpy.float64'>\n",
            "980 \t highDay194 \t\t\t <class 'numpy.float64'>\n",
            "981 \t openDay194 \t\t\t <class 'numpy.float64'>\n",
            "982 \t lowDay194 \t\t\t <class 'numpy.float64'>\n",
            "983 \t volumeDay194 \t\t\t <class 'numpy.float64'>\n",
            "984 \t closeDay195 \t\t\t <class 'numpy.float64'>\n",
            "985 \t highDay195 \t\t\t <class 'numpy.float64'>\n",
            "986 \t openDay195 \t\t\t <class 'numpy.float64'>\n",
            "987 \t lowDay195 \t\t\t <class 'numpy.float64'>\n",
            "988 \t volumeDay195 \t\t\t <class 'numpy.float64'>\n",
            "989 \t closeDay196 \t\t\t <class 'numpy.float64'>\n",
            "990 \t highDay196 \t\t\t <class 'numpy.float64'>\n",
            "991 \t openDay196 \t\t\t <class 'numpy.float64'>\n",
            "992 \t lowDay196 \t\t\t <class 'numpy.float64'>\n",
            "993 \t volumeDay196 \t\t\t <class 'numpy.float64'>\n",
            "994 \t closeDay197 \t\t\t <class 'numpy.float64'>\n",
            "995 \t highDay197 \t\t\t <class 'numpy.float64'>\n",
            "996 \t openDay197 \t\t\t <class 'numpy.float64'>\n",
            "997 \t lowDay197 \t\t\t <class 'numpy.float64'>\n",
            "998 \t volumeDay197 \t\t\t <class 'numpy.float64'>\n",
            "999 \t closeDay198 \t\t\t <class 'numpy.float64'>\n",
            "1000 \t highDay198 \t\t\t <class 'numpy.float64'>\n",
            "1001 \t openDay198 \t\t\t <class 'numpy.float64'>\n",
            "1002 \t lowDay198 \t\t\t <class 'numpy.float64'>\n",
            "1003 \t volumeDay198 \t\t\t <class 'numpy.float64'>\n",
            "1004 \t closeDay199 \t\t\t <class 'numpy.float64'>\n",
            "1005 \t highDay199 \t\t\t <class 'numpy.float64'>\n",
            "1006 \t openDay199 \t\t\t <class 'numpy.float64'>\n",
            "1007 \t lowDay199 \t\t\t <class 'numpy.float64'>\n",
            "1008 \t volumeDay199 \t\t\t <class 'numpy.float64'>\n",
            "1009 \t closeDay200 \t\t\t <class 'numpy.float64'>\n",
            "1010 \t highDay200 \t\t\t <class 'numpy.float64'>\n",
            "1011 \t openDay200 \t\t\t <class 'numpy.float64'>\n",
            "1012 \t lowDay200 \t\t\t <class 'numpy.float64'>\n",
            "1013 \t volumeDay200 \t\t\t <class 'numpy.float64'>\n",
            "1014 \t closeDay201 \t\t\t <class 'numpy.float64'>\n",
            "1015 \t highDay201 \t\t\t <class 'numpy.float64'>\n",
            "1016 \t openDay201 \t\t\t <class 'numpy.float64'>\n",
            "1017 \t lowDay201 \t\t\t <class 'numpy.float64'>\n",
            "1018 \t volumeDay201 \t\t\t <class 'numpy.float64'>\n",
            "1019 \t closeDay202 \t\t\t <class 'numpy.float64'>\n",
            "1020 \t highDay202 \t\t\t <class 'numpy.float64'>\n",
            "1021 \t openDay202 \t\t\t <class 'numpy.float64'>\n",
            "1022 \t lowDay202 \t\t\t <class 'numpy.float64'>\n",
            "1023 \t volumeDay202 \t\t\t <class 'numpy.float64'>\n",
            "1024 \t closeDay203 \t\t\t <class 'numpy.float64'>\n",
            "1025 \t highDay203 \t\t\t <class 'numpy.float64'>\n",
            "1026 \t openDay203 \t\t\t <class 'numpy.float64'>\n",
            "1027 \t lowDay203 \t\t\t <class 'numpy.float64'>\n",
            "1028 \t volumeDay203 \t\t\t <class 'numpy.float64'>\n",
            "1029 \t closeDay204 \t\t\t <class 'numpy.float64'>\n",
            "1030 \t highDay204 \t\t\t <class 'numpy.float64'>\n",
            "1031 \t openDay204 \t\t\t <class 'numpy.float64'>\n",
            "1032 \t lowDay204 \t\t\t <class 'numpy.float64'>\n",
            "1033 \t volumeDay204 \t\t\t <class 'numpy.float64'>\n",
            "1034 \t closeDay205 \t\t\t <class 'numpy.float64'>\n",
            "1035 \t highDay205 \t\t\t <class 'numpy.float64'>\n",
            "1036 \t openDay205 \t\t\t <class 'numpy.float64'>\n",
            "1037 \t lowDay205 \t\t\t <class 'numpy.float64'>\n",
            "1038 \t volumeDay205 \t\t\t <class 'numpy.float64'>\n",
            "1039 \t closeDay206 \t\t\t <class 'numpy.float64'>\n",
            "1040 \t highDay206 \t\t\t <class 'numpy.float64'>\n",
            "1041 \t openDay206 \t\t\t <class 'numpy.float64'>\n",
            "1042 \t lowDay206 \t\t\t <class 'numpy.float64'>\n",
            "1043 \t volumeDay206 \t\t\t <class 'numpy.float64'>\n",
            "1044 \t closeDay207 \t\t\t <class 'numpy.float64'>\n",
            "1045 \t highDay207 \t\t\t <class 'numpy.float64'>\n",
            "1046 \t openDay207 \t\t\t <class 'numpy.float64'>\n",
            "1047 \t lowDay207 \t\t\t <class 'numpy.float64'>\n",
            "1048 \t volumeDay207 \t\t\t <class 'numpy.float64'>\n",
            "1049 \t closeDay208 \t\t\t <class 'numpy.float64'>\n",
            "1050 \t highDay208 \t\t\t <class 'numpy.float64'>\n",
            "1051 \t openDay208 \t\t\t <class 'numpy.float64'>\n",
            "1052 \t lowDay208 \t\t\t <class 'numpy.float64'>\n",
            "1053 \t volumeDay208 \t\t\t <class 'numpy.float64'>\n",
            "1054 \t closeDay209 \t\t\t <class 'numpy.float64'>\n",
            "1055 \t highDay209 \t\t\t <class 'numpy.float64'>\n",
            "1056 \t openDay209 \t\t\t <class 'numpy.float64'>\n",
            "1057 \t lowDay209 \t\t\t <class 'numpy.float64'>\n",
            "1058 \t volumeDay209 \t\t\t <class 'numpy.float64'>\n",
            "1059 \t closeDay210 \t\t\t <class 'numpy.float64'>\n",
            "1060 \t highDay210 \t\t\t <class 'numpy.float64'>\n",
            "1061 \t openDay210 \t\t\t <class 'numpy.float64'>\n",
            "1062 \t lowDay210 \t\t\t <class 'numpy.float64'>\n",
            "1063 \t volumeDay210 \t\t\t <class 'numpy.float64'>\n",
            "1064 \t closeDay211 \t\t\t <class 'numpy.float64'>\n",
            "1065 \t highDay211 \t\t\t <class 'numpy.float64'>\n",
            "1066 \t openDay211 \t\t\t <class 'numpy.float64'>\n",
            "1067 \t lowDay211 \t\t\t <class 'numpy.float64'>\n",
            "1068 \t volumeDay211 \t\t\t <class 'numpy.float64'>\n",
            "1069 \t closeDay212 \t\t\t <class 'numpy.float64'>\n",
            "1070 \t highDay212 \t\t\t <class 'numpy.float64'>\n",
            "1071 \t openDay212 \t\t\t <class 'numpy.float64'>\n",
            "1072 \t lowDay212 \t\t\t <class 'numpy.float64'>\n",
            "1073 \t volumeDay212 \t\t\t <class 'numpy.float64'>\n",
            "1074 \t closeDay213 \t\t\t <class 'numpy.float64'>\n",
            "1075 \t highDay213 \t\t\t <class 'numpy.float64'>\n",
            "1076 \t openDay213 \t\t\t <class 'numpy.float64'>\n",
            "1077 \t lowDay213 \t\t\t <class 'numpy.float64'>\n",
            "1078 \t volumeDay213 \t\t\t <class 'numpy.float64'>\n",
            "1079 \t closeDay214 \t\t\t <class 'numpy.float64'>\n",
            "1080 \t highDay214 \t\t\t <class 'numpy.float64'>\n",
            "1081 \t openDay214 \t\t\t <class 'numpy.float64'>\n",
            "1082 \t lowDay214 \t\t\t <class 'numpy.float64'>\n",
            "1083 \t volumeDay214 \t\t\t <class 'numpy.float64'>\n",
            "1084 \t closeDay215 \t\t\t <class 'numpy.float64'>\n",
            "1085 \t highDay215 \t\t\t <class 'numpy.float64'>\n",
            "1086 \t openDay215 \t\t\t <class 'numpy.float64'>\n",
            "1087 \t lowDay215 \t\t\t <class 'numpy.float64'>\n",
            "1088 \t volumeDay215 \t\t\t <class 'numpy.float64'>\n",
            "1089 \t closeDay216 \t\t\t <class 'numpy.float64'>\n",
            "1090 \t highDay216 \t\t\t <class 'numpy.float64'>\n",
            "1091 \t openDay216 \t\t\t <class 'numpy.float64'>\n",
            "1092 \t lowDay216 \t\t\t <class 'numpy.float64'>\n",
            "1093 \t volumeDay216 \t\t\t <class 'numpy.float64'>\n",
            "1094 \t closeDay217 \t\t\t <class 'numpy.float64'>\n",
            "1095 \t highDay217 \t\t\t <class 'numpy.float64'>\n",
            "1096 \t openDay217 \t\t\t <class 'numpy.float64'>\n",
            "1097 \t lowDay217 \t\t\t <class 'numpy.float64'>\n",
            "1098 \t volumeDay217 \t\t\t <class 'numpy.float64'>\n",
            "1099 \t closeDay218 \t\t\t <class 'numpy.float64'>\n",
            "1100 \t highDay218 \t\t\t <class 'numpy.float64'>\n",
            "1101 \t openDay218 \t\t\t <class 'numpy.float64'>\n",
            "1102 \t lowDay218 \t\t\t <class 'numpy.float64'>\n",
            "1103 \t volumeDay218 \t\t\t <class 'numpy.float64'>\n",
            "1104 \t closeDay219 \t\t\t <class 'numpy.float64'>\n",
            "1105 \t highDay219 \t\t\t <class 'numpy.float64'>\n",
            "1106 \t openDay219 \t\t\t <class 'numpy.float64'>\n",
            "1107 \t lowDay219 \t\t\t <class 'numpy.float64'>\n",
            "1108 \t volumeDay219 \t\t\t <class 'numpy.float64'>\n",
            "1109 \t closeDay220 \t\t\t <class 'numpy.float64'>\n",
            "1110 \t highDay220 \t\t\t <class 'numpy.float64'>\n",
            "1111 \t openDay220 \t\t\t <class 'numpy.float64'>\n",
            "1112 \t lowDay220 \t\t\t <class 'numpy.float64'>\n",
            "1113 \t volumeDay220 \t\t\t <class 'numpy.float64'>\n",
            "1114 \t closeDay221 \t\t\t <class 'numpy.float64'>\n",
            "1115 \t highDay221 \t\t\t <class 'numpy.float64'>\n",
            "1116 \t openDay221 \t\t\t <class 'numpy.float64'>\n",
            "1117 \t lowDay221 \t\t\t <class 'numpy.float64'>\n",
            "1118 \t volumeDay221 \t\t\t <class 'numpy.float64'>\n",
            "1119 \t closeDay222 \t\t\t <class 'numpy.float64'>\n",
            "1120 \t highDay222 \t\t\t <class 'numpy.float64'>\n",
            "1121 \t openDay222 \t\t\t <class 'numpy.float64'>\n",
            "1122 \t lowDay222 \t\t\t <class 'numpy.float64'>\n",
            "1123 \t volumeDay222 \t\t\t <class 'numpy.float64'>\n",
            "1124 \t closeDay223 \t\t\t <class 'numpy.float64'>\n",
            "1125 \t highDay223 \t\t\t <class 'numpy.float64'>\n",
            "1126 \t openDay223 \t\t\t <class 'numpy.float64'>\n",
            "1127 \t lowDay223 \t\t\t <class 'numpy.float64'>\n",
            "1128 \t volumeDay223 \t\t\t <class 'numpy.float64'>\n",
            "1129 \t closeDay224 \t\t\t <class 'numpy.float64'>\n",
            "1130 \t highDay224 \t\t\t <class 'numpy.float64'>\n",
            "1131 \t openDay224 \t\t\t <class 'numpy.float64'>\n",
            "1132 \t lowDay224 \t\t\t <class 'numpy.float64'>\n",
            "1133 \t volumeDay224 \t\t\t <class 'numpy.float64'>\n",
            "1134 \t closeDay225 \t\t\t <class 'numpy.float64'>\n",
            "1135 \t highDay225 \t\t\t <class 'numpy.float64'>\n",
            "1136 \t openDay225 \t\t\t <class 'numpy.float64'>\n",
            "1137 \t lowDay225 \t\t\t <class 'numpy.float64'>\n",
            "1138 \t volumeDay225 \t\t\t <class 'numpy.float64'>\n",
            "1139 \t closeDay226 \t\t\t <class 'numpy.float64'>\n",
            "1140 \t highDay226 \t\t\t <class 'numpy.float64'>\n",
            "1141 \t openDay226 \t\t\t <class 'numpy.float64'>\n",
            "1142 \t lowDay226 \t\t\t <class 'numpy.float64'>\n",
            "1143 \t volumeDay226 \t\t\t <class 'numpy.float64'>\n",
            "1144 \t closeDay227 \t\t\t <class 'numpy.float64'>\n",
            "1145 \t highDay227 \t\t\t <class 'numpy.float64'>\n",
            "1146 \t openDay227 \t\t\t <class 'numpy.float64'>\n",
            "1147 \t lowDay227 \t\t\t <class 'numpy.float64'>\n",
            "1148 \t volumeDay227 \t\t\t <class 'numpy.float64'>\n",
            "1149 \t closeDay228 \t\t\t <class 'numpy.float64'>\n",
            "1150 \t highDay228 \t\t\t <class 'numpy.float64'>\n",
            "1151 \t openDay228 \t\t\t <class 'numpy.float64'>\n",
            "1152 \t lowDay228 \t\t\t <class 'numpy.float64'>\n",
            "1153 \t volumeDay228 \t\t\t <class 'numpy.float64'>\n",
            "1154 \t closeDay229 \t\t\t <class 'numpy.float64'>\n",
            "1155 \t highDay229 \t\t\t <class 'numpy.float64'>\n",
            "1156 \t openDay229 \t\t\t <class 'numpy.float64'>\n",
            "1157 \t lowDay229 \t\t\t <class 'numpy.float64'>\n",
            "1158 \t volumeDay229 \t\t\t <class 'numpy.float64'>\n",
            "1159 \t closeDay230 \t\t\t <class 'numpy.float64'>\n",
            "1160 \t highDay230 \t\t\t <class 'numpy.float64'>\n",
            "1161 \t openDay230 \t\t\t <class 'numpy.float64'>\n",
            "1162 \t lowDay230 \t\t\t <class 'numpy.float64'>\n",
            "1163 \t volumeDay230 \t\t\t <class 'numpy.float64'>\n",
            "1164 \t closeDay231 \t\t\t <class 'numpy.float64'>\n",
            "1165 \t highDay231 \t\t\t <class 'numpy.float64'>\n",
            "1166 \t openDay231 \t\t\t <class 'numpy.float64'>\n",
            "1167 \t lowDay231 \t\t\t <class 'numpy.float64'>\n",
            "1168 \t volumeDay231 \t\t\t <class 'numpy.float64'>\n",
            "1169 \t closeDay232 \t\t\t <class 'numpy.float64'>\n",
            "1170 \t highDay232 \t\t\t <class 'numpy.float64'>\n",
            "1171 \t openDay232 \t\t\t <class 'numpy.float64'>\n",
            "1172 \t lowDay232 \t\t\t <class 'numpy.float64'>\n",
            "1173 \t volumeDay232 \t\t\t <class 'numpy.float64'>\n",
            "1174 \t closeDay233 \t\t\t <class 'numpy.float64'>\n",
            "1175 \t highDay233 \t\t\t <class 'numpy.float64'>\n",
            "1176 \t openDay233 \t\t\t <class 'numpy.float64'>\n",
            "1177 \t lowDay233 \t\t\t <class 'numpy.float64'>\n",
            "1178 \t volumeDay233 \t\t\t <class 'numpy.float64'>\n",
            "1179 \t closeDay234 \t\t\t <class 'numpy.float64'>\n",
            "1180 \t highDay234 \t\t\t <class 'numpy.float64'>\n",
            "1181 \t openDay234 \t\t\t <class 'numpy.float64'>\n",
            "1182 \t lowDay234 \t\t\t <class 'numpy.float64'>\n",
            "1183 \t volumeDay234 \t\t\t <class 'numpy.float64'>\n",
            "1184 \t closeDay235 \t\t\t <class 'numpy.float64'>\n",
            "1185 \t highDay235 \t\t\t <class 'numpy.float64'>\n",
            "1186 \t openDay235 \t\t\t <class 'numpy.float64'>\n",
            "1187 \t lowDay235 \t\t\t <class 'numpy.float64'>\n",
            "1188 \t volumeDay235 \t\t\t <class 'numpy.float64'>\n",
            "1189 \t closeDay236 \t\t\t <class 'numpy.float64'>\n",
            "1190 \t highDay236 \t\t\t <class 'numpy.float64'>\n",
            "1191 \t openDay236 \t\t\t <class 'numpy.float64'>\n",
            "1192 \t lowDay236 \t\t\t <class 'numpy.float64'>\n",
            "1193 \t volumeDay236 \t\t\t <class 'numpy.float64'>\n",
            "1194 \t closeDay237 \t\t\t <class 'numpy.float64'>\n",
            "1195 \t highDay237 \t\t\t <class 'numpy.float64'>\n",
            "1196 \t openDay237 \t\t\t <class 'numpy.float64'>\n",
            "1197 \t lowDay237 \t\t\t <class 'numpy.float64'>\n",
            "1198 \t volumeDay237 \t\t\t <class 'numpy.float64'>\n",
            "1199 \t closeDay238 \t\t\t <class 'numpy.float64'>\n",
            "1200 \t highDay238 \t\t\t <class 'numpy.float64'>\n",
            "1201 \t openDay238 \t\t\t <class 'numpy.float64'>\n",
            "1202 \t lowDay238 \t\t\t <class 'numpy.float64'>\n",
            "1203 \t volumeDay238 \t\t\t <class 'numpy.float64'>\n",
            "1204 \t closeDay239 \t\t\t <class 'numpy.float64'>\n",
            "1205 \t highDay239 \t\t\t <class 'numpy.float64'>\n",
            "1206 \t openDay239 \t\t\t <class 'numpy.float64'>\n",
            "1207 \t lowDay239 \t\t\t <class 'numpy.float64'>\n",
            "1208 \t volumeDay239 \t\t\t <class 'numpy.float64'>\n",
            "1209 \t closeDay240 \t\t\t <class 'numpy.float64'>\n",
            "1210 \t highDay240 \t\t\t <class 'numpy.float64'>\n",
            "1211 \t openDay240 \t\t\t <class 'numpy.float64'>\n",
            "1212 \t lowDay240 \t\t\t <class 'numpy.float64'>\n",
            "1213 \t volumeDay240 \t\t\t <class 'numpy.float64'>\n",
            "1214 \t closeDay241 \t\t\t <class 'numpy.float64'>\n",
            "1215 \t highDay241 \t\t\t <class 'numpy.float64'>\n",
            "1216 \t openDay241 \t\t\t <class 'numpy.float64'>\n",
            "1217 \t lowDay241 \t\t\t <class 'numpy.float64'>\n",
            "1218 \t volumeDay241 \t\t\t <class 'numpy.float64'>\n",
            "1219 \t closeDay242 \t\t\t <class 'numpy.float64'>\n",
            "1220 \t highDay242 \t\t\t <class 'numpy.float64'>\n",
            "1221 \t openDay242 \t\t\t <class 'numpy.float64'>\n",
            "1222 \t lowDay242 \t\t\t <class 'numpy.float64'>\n",
            "1223 \t volumeDay242 \t\t\t <class 'numpy.float64'>\n",
            "1224 \t closeDay243 \t\t\t <class 'numpy.float64'>\n",
            "1225 \t highDay243 \t\t\t <class 'numpy.float64'>\n",
            "1226 \t openDay243 \t\t\t <class 'numpy.float64'>\n",
            "1227 \t lowDay243 \t\t\t <class 'numpy.float64'>\n",
            "1228 \t volumeDay243 \t\t\t <class 'numpy.float64'>\n",
            "1229 \t closeDay244 \t\t\t <class 'numpy.float64'>\n",
            "1230 \t highDay244 \t\t\t <class 'numpy.float64'>\n",
            "1231 \t openDay244 \t\t\t <class 'numpy.float64'>\n",
            "1232 \t lowDay244 \t\t\t <class 'numpy.float64'>\n",
            "1233 \t volumeDay244 \t\t\t <class 'numpy.float64'>\n",
            "1234 \t closeDay245 \t\t\t <class 'numpy.float64'>\n",
            "1235 \t highDay245 \t\t\t <class 'numpy.float64'>\n",
            "1236 \t openDay245 \t\t\t <class 'numpy.float64'>\n",
            "1237 \t lowDay245 \t\t\t <class 'numpy.float64'>\n",
            "1238 \t volumeDay245 \t\t\t <class 'numpy.float64'>\n",
            "1239 \t closeDay246 \t\t\t <class 'numpy.float64'>\n",
            "1240 \t highDay246 \t\t\t <class 'numpy.float64'>\n",
            "1241 \t openDay246 \t\t\t <class 'numpy.float64'>\n",
            "1242 \t lowDay246 \t\t\t <class 'numpy.float64'>\n",
            "1243 \t volumeDay246 \t\t\t <class 'numpy.float64'>\n",
            "1244 \t closeDay247 \t\t\t <class 'numpy.float64'>\n",
            "1245 \t highDay247 \t\t\t <class 'numpy.float64'>\n",
            "1246 \t openDay247 \t\t\t <class 'numpy.float64'>\n",
            "1247 \t lowDay247 \t\t\t <class 'numpy.float64'>\n",
            "1248 \t volumeDay247 \t\t\t <class 'numpy.float64'>\n",
            "1249 \t closeDay248 \t\t\t <class 'numpy.float64'>\n",
            "1250 \t highDay248 \t\t\t <class 'numpy.float64'>\n",
            "1251 \t openDay248 \t\t\t <class 'numpy.float64'>\n",
            "1252 \t lowDay248 \t\t\t <class 'numpy.float64'>\n",
            "1253 \t volumeDay248 \t\t\t <class 'numpy.float64'>\n",
            "1254 \t closeDay249 \t\t\t <class 'numpy.float64'>\n",
            "1255 \t highDay249 \t\t\t <class 'numpy.float64'>\n",
            "1256 \t openDay249 \t\t\t <class 'numpy.float64'>\n",
            "1257 \t lowDay249 \t\t\t <class 'numpy.float64'>\n",
            "1258 \t volumeDay249 \t\t\t <class 'numpy.float64'>\n",
            "1259 \t closeDay250 \t\t\t <class 'numpy.float64'>\n",
            "1260 \t highDay250 \t\t\t <class 'numpy.float64'>\n",
            "1261 \t openDay250 \t\t\t <class 'numpy.float64'>\n",
            "1262 \t lowDay250 \t\t\t <class 'numpy.float64'>\n",
            "1263 \t volumeDay250 \t\t\t <class 'numpy.float64'>\n",
            "1264 \t closeDay251 \t\t\t <class 'numpy.float64'>\n",
            "1265 \t highDay251 \t\t\t <class 'numpy.float64'>\n",
            "1266 \t openDay251 \t\t\t <class 'numpy.float64'>\n",
            "1267 \t lowDay251 \t\t\t <class 'numpy.float64'>\n",
            "1268 \t volumeDay251 \t\t\t <class 'numpy.float64'>\n",
            "1269 \t closeDay252 \t\t\t <class 'numpy.float64'>\n",
            "1270 \t highDay252 \t\t\t <class 'numpy.float64'>\n",
            "1271 \t openDay252 \t\t\t <class 'numpy.float64'>\n",
            "1272 \t lowDay252 \t\t\t <class 'numpy.float64'>\n",
            "1273 \t volumeDay252 \t\t\t <class 'numpy.float64'>\n",
            "1274 \t closeDay253 \t\t\t <class 'numpy.float64'>\n",
            "1275 \t highDay253 \t\t\t <class 'numpy.float64'>\n",
            "1276 \t openDay253 \t\t\t <class 'numpy.float64'>\n",
            "1277 \t lowDay253 \t\t\t <class 'numpy.float64'>\n",
            "1278 \t volumeDay253 \t\t\t <class 'numpy.float64'>\n",
            "1279 \t closeDay254 \t\t\t <class 'numpy.float64'>\n",
            "1280 \t highDay254 \t\t\t <class 'numpy.float64'>\n",
            "1281 \t openDay254 \t\t\t <class 'numpy.float64'>\n",
            "1282 \t lowDay254 \t\t\t <class 'numpy.float64'>\n",
            "1283 \t volumeDay254 \t\t\t <class 'numpy.float64'>\n",
            "1284 \t closeDay255 \t\t\t <class 'numpy.float64'>\n",
            "1285 \t highDay255 \t\t\t <class 'numpy.float64'>\n",
            "1286 \t openDay255 \t\t\t <class 'numpy.float64'>\n",
            "1287 \t lowDay255 \t\t\t <class 'numpy.float64'>\n",
            "1288 \t volumeDay255 \t\t\t <class 'numpy.float64'>\n",
            "1289 \t closeDay256 \t\t\t <class 'numpy.float64'>\n",
            "1290 \t highDay256 \t\t\t <class 'numpy.float64'>\n",
            "1291 \t openDay256 \t\t\t <class 'numpy.float64'>\n",
            "1292 \t lowDay256 \t\t\t <class 'numpy.float64'>\n",
            "1293 \t volumeDay256 \t\t\t <class 'numpy.float64'>\n",
            "1294 \t closeDay257 \t\t\t <class 'numpy.float64'>\n",
            "1295 \t highDay257 \t\t\t <class 'numpy.float64'>\n",
            "1296 \t openDay257 \t\t\t <class 'numpy.float64'>\n",
            "1297 \t lowDay257 \t\t\t <class 'numpy.float64'>\n",
            "1298 \t volumeDay257 \t\t\t <class 'numpy.float64'>\n",
            "1299 \t closeDay258 \t\t\t <class 'numpy.float64'>\n",
            "1300 \t highDay258 \t\t\t <class 'numpy.float64'>\n",
            "1301 \t openDay258 \t\t\t <class 'numpy.float64'>\n",
            "1302 \t lowDay258 \t\t\t <class 'numpy.float64'>\n",
            "1303 \t volumeDay258 \t\t\t <class 'numpy.float64'>\n",
            "1304 \t closeDay259 \t\t\t <class 'numpy.float64'>\n",
            "1305 \t highDay259 \t\t\t <class 'numpy.float64'>\n",
            "1306 \t openDay259 \t\t\t <class 'numpy.float64'>\n",
            "1307 \t lowDay259 \t\t\t <class 'numpy.float64'>\n",
            "1308 \t volumeDay259 \t\t\t <class 'numpy.float64'>\n",
            "1309 \t closeDay260 \t\t\t <class 'numpy.float64'>\n",
            "1310 \t highDay260 \t\t\t <class 'numpy.float64'>\n",
            "1311 \t openDay260 \t\t\t <class 'numpy.float64'>\n",
            "1312 \t lowDay260 \t\t\t <class 'numpy.float64'>\n",
            "1313 \t volumeDay260 \t\t\t <class 'numpy.float64'>\n",
            "1314 \t closeDay261 \t\t\t <class 'numpy.float64'>\n",
            "1315 \t highDay261 \t\t\t <class 'numpy.float64'>\n",
            "1316 \t openDay261 \t\t\t <class 'numpy.float64'>\n",
            "1317 \t lowDay261 \t\t\t <class 'numpy.float64'>\n",
            "1318 \t volumeDay261 \t\t\t <class 'numpy.float64'>\n",
            "1319 \t Name \t\t\t <class 'str'>\n",
            "1320 \t LastSale \t\t\t <class 'numpy.float64'>\n",
            "1321 \t MarketCap \t\t\t <class 'numpy.float64'>\n",
            "1322 \t ADR TSO \t\t\t <class 'numpy.float64'>\n",
            "1323 \t Sector \t\t\t <class 'str'>\n",
            "1324 \t Industry \t\t\t <class 'str'>\n",
            "1325 \t Summary Quote \t\t\t <class 'str'>\n",
            "1326 \t ipoDate \t\t\t <class 'str'>\n",
            "1327 \t CEOTakeOver \t\t\t <class 'numpy.float64'>\n",
            "1328 \t CEOAge \t\t\t <class 'numpy.float64'>\n",
            "1329 \t CEOName \t\t\t <class 'str'>\n",
            "1330 \t CEOGender \t\t\t <class 'str'>\n",
            "1331 \t CEOInChargeDuringIPO \t\t\t <class 'str'>\n",
            "1332 \t PresidentTakeOver \t\t\t <class 'numpy.float64'>\n",
            "1333 \t PresidentAge \t\t\t <class 'numpy.float64'>\n",
            "1334 \t PresidentName \t\t\t <class 'str'>\n",
            "1335 \t PresidentGender \t\t\t <class 'str'>\n",
            "1336 \t presidentInChargeDuringIPO \t\t\t <class 'str'>\n",
            "1337 \t City \t\t\t <class 'str'>\n",
            "1338 \t stateCountry \t\t\t <class 'str'>\n",
            "1339 \t FiscalDateEnd \t\t\t <class 'str'>\n",
            "1340 \t Revenue \t\t\t <class 'str'>\n",
            "1341 \t RevenueFormat \t\t\t <class 'numpy.float64'>\n",
            "1342 \t netIncome \t\t\t <class 'str'>\n",
            "1343 \t netIncomeFormat \t\t\t <class 'numpy.float64'>\n",
            "1344 \t  lastFiscalYearGrowth  \t\t\t <class 'str'>\n",
            "1345 \t employees \t\t\t <class 'str'>\n",
            "1346 \t YearFounded \t\t\t <class 'numpy.float64'>\n",
            "1347 \t exactDateFounded \t\t\t <class 'str'>\n",
            "1348 \t yearDifference \t\t\t <class 'numpy.float64'>\n",
            "1349 \t Fiscal_year_ends_in_December_USDYearBeforeIPO \t\t\t <class 'float'>\n",
            "1350 \t PremiumsYearBeforeIPO \t\t\t <class 'numpy.float64'>\n",
            "1351 \t Investment_income,_netYearBeforeIPO \t\t\t <class 'numpy.float64'>\n",
            "1352 \t Other_income_(loss)YearBeforeIPO \t\t\t <class 'numpy.float64'>\n",
            "1353 \t Total_revenuesYearBeforeIPO \t\t\t <class 'numpy.float64'>\n",
            "1354 \t Policyholder_benefits_and_claims_incurredYearBeforeIPO \t\t\t <class 'numpy.float64'>\n",
            "1355 \t Selling,_general_and_administrativeYearBeforeIPO \t\t\t <class 'numpy.float64'>\n",
            "1356 \t Other_expensesYearBeforeIPO \t\t\t <class 'numpy.float64'>\n",
            "1357 \t Total_benefits,_claims_and_expensesYearBeforeIPO \t\t\t <class 'numpy.float64'>\n",
            "1358 \t Income_before_income_taxesYearBeforeIPO \t\t\t <class 'numpy.float64'>\n",
            "1359 \t Income_tax_(expense)_benefitYearBeforeIPO \t\t\t <class 'numpy.float64'>\n",
            "1360 \t Net_incomeYearBeforeIPO \t\t\t <class 'numpy.float64'>\n",
            "1361 \t Net_income_available_to_common_shareholdersYearBeforeIPO \t\t\t <class 'numpy.float64'>\n",
            "1362 \t BasicYearBeforeIPO \t\t\t <class 'numpy.float64'>\n",
            "1363 \t DilutedYearBeforeIPO \t\t\t <class 'numpy.float64'>\n",
            "1364 \t Amortization_of_debt_discount/premium_and_issuance_costsYearBeforeIPO \t\t\t <class 'numpy.float64'>\n",
            "1365 \t Reserves_for_claims_and_claim_adjustment_expensesYearBeforeIPO \t\t\t <class 'numpy.float64'>\n",
            "1366 \t Capitalization_of_deferred_policy_acquisition_costsYearBeforeIPO \t\t\t <class 'numpy.float64'>\n",
            "1367 \t ReceivableYearBeforeIPO \t\t\t <class 'numpy.float64'>\n",
            "1368 \t PayablesYearBeforeIPO \t\t\t <class 'numpy.float64'>\n",
            "1369 \t Accrued_liabilitiesYearBeforeIPO \t\t\t <class 'numpy.float64'>\n",
            "1370 \t Income_taxes_payableYearBeforeIPO \t\t\t <class 'numpy.float64'>\n",
            "1371 \t Other_assets_and_liabilitiesYearBeforeIPO \t\t\t <class 'numpy.float64'>\n",
            "1372 \t Other_operating_activitiesYearBeforeIPO \t\t\t <class 'numpy.float64'>\n",
            "1373 \t Net_cash_provided_by_operating_activitiesYearBeforeIPO \t\t\t <class 'numpy.float64'>\n",
            "1374 \t Sales/maturities_of_fixed_maturity_and_equity_securitiesYearBeforeIPO \t\t\t <class 'numpy.float64'>\n",
            "1375 \t Purchases_of_investmentsYearBeforeIPO \t\t\t <class 'numpy.float64'>\n",
            "1376 \t Net_cash_used_for_investing_activitiesYearBeforeIPO \t\t\t <class 'numpy.float64'>\n",
            "1377 \t Other_financing_activitiesYearBeforeIPO \t\t\t <class 'numpy.float64'>\n",
            "1378 \t Net_cash_provided_by_(used_for)_financing_activitiesYearBeforeIPO \t\t\t <class 'numpy.float64'>\n",
            "1379 \t Net_change_in_cashYearBeforeIPO \t\t\t <class 'numpy.float64'>\n",
            "1380 \t Cash_at_beginning_of_periodYearBeforeIPO \t\t\t <class 'numpy.float64'>\n",
            "1381 \t Cash_at_end_of_periodYearBeforeIPO \t\t\t <class 'numpy.float64'>\n",
            "1382 \t Cash_paid_for_income_taxesYearBeforeIPO \t\t\t <class 'numpy.float64'>\n",
            "1383 \t Equity_securitiesYearBeforeIPO \t\t\t <class 'numpy.float64'>\n",
            "1384 \t Short-term_investmentsYearBeforeIPO \t\t\t <class 'numpy.float64'>\n",
            "1385 \t Cash_and_cash_equivalentsYearBeforeIPO \t\t\t <class 'numpy.float64'>\n",
            "1386 \t Premiums_and_other_receivablesYearBeforeIPO \t\t\t <class 'numpy.float64'>\n",
            "1387 \t Deferred_policy_acquisition_costsYearBeforeIPO \t\t\t <class 'numpy.float64'>\n",
            "1388 \t Deferred_income_tax_assetsYearBeforeIPO \t\t\t <class 'numpy.float64'>\n",
            "1389 \t Other_assetsYearBeforeIPO \t\t\t <class 'numpy.float64'>\n",
            "1390 \t Total_assetsYearBeforeIPO \t\t\t <class 'numpy.float64'>\n",
            "1391 \t Unearned_premiumsYearBeforeIPO \t\t\t <class 'numpy.float64'>\n",
            "1392 \t Other_liabilitiesYearBeforeIPO \t\t\t <class 'numpy.float64'>\n",
            "1393 \t Total_liabilitiesYearBeforeIPO \t\t\t <class 'numpy.float64'>\n",
            "1394 \t Additional_paid-in_capitalYearBeforeIPO \t\t\t <class 'numpy.float64'>\n",
            "1395 \t Retained_earningsYearBeforeIPO \t\t\t <class 'numpy.float64'>\n",
            "1396 \t Total_stockholders_equityYearBeforeIPO \t\t\t <class 'numpy.float64'>\n",
            "1397 \t Total_liabilities_and_stockholders_equityYearBeforeIPO \t\t\t <class 'numpy.float64'>\n",
            "1398 \t RevenueYearBeforeIPO \t\t\t <class 'numpy.float64'>\n",
            "1399 \t Cost_of_revenueYearBeforeIPO \t\t\t <class 'numpy.float64'>\n",
            "1400 \t Gross_profitYearBeforeIPO \t\t\t <class 'numpy.float64'>\n",
            "1401 \t Research_and_developmentYearBeforeIPO \t\t\t <class 'numpy.float64'>\n",
            "1402 \t Sales,_General_and_administrativeYearBeforeIPO \t\t\t <class 'numpy.float64'>\n",
            "1403 \t Total_operating_expensesYearBeforeIPO \t\t\t <class 'numpy.float64'>\n",
            "1404 \t Operating_incomeYearBeforeIPO \t\t\t <class 'numpy.float64'>\n",
            "1405 \t Interest_ExpenseYearBeforeIPO \t\t\t <class 'numpy.float64'>\n",
            "1406 \t Other_income_(expense)YearBeforeIPO \t\t\t <class 'numpy.float64'>\n",
            "1407 \t Income_before_taxesYearBeforeIPO \t\t\t <class 'numpy.float64'>\n",
            "1408 \t Net_income_from_continuing_operationsYearBeforeIPO \t\t\t <class 'numpy.float64'>\n",
            "1409 \t Preferred_dividendYearBeforeIPO \t\t\t <class 'numpy.float64'>\n",
            "1410 \t EBITDAYearBeforeIPO \t\t\t <class 'numpy.float64'>\n",
            "1411 \t Depreciation_&_amortizationYearBeforeIPO \t\t\t <class 'numpy.float64'>\n",
            "1412 \t Investment/asset_impairment_chargesYearBeforeIPO \t\t\t <class 'numpy.float64'>\n",
            "1413 \t Investments_losses_(gains)YearBeforeIPO \t\t\t <class 'numpy.float64'>\n",
            "1414 \t Stock_based_compensationYearBeforeIPO \t\t\t <class 'numpy.float64'>\n",
            "1415 \t Change_in_working_capitalYearBeforeIPO \t\t\t <class 'numpy.float64'>\n",
            "1416 \t Accounts_receivableYearBeforeIPO \t\t\t <class 'numpy.float64'>\n",
            "1417 \t Prepaid_expensesYearBeforeIPO \t\t\t <class 'numpy.float64'>\n",
            "1418 \t Accounts_payableYearBeforeIPO \t\t\t <class 'numpy.float64'>\n",
            "1419 \t Other_working_capitalYearBeforeIPO \t\t\t <class 'numpy.float64'>\n",
            "1420 \t Investments_in_property,_plant,_and_equipmentYearBeforeIPO \t\t\t <class 'numpy.float64'>\n",
            "1421 \t Other_investing_activitiesYearBeforeIPO \t\t\t <class 'numpy.float64'>\n",
            "1422 \t Preferred_stock_issuedYearBeforeIPO \t\t\t <class 'numpy.float64'>\n",
            "1423 \t Common_stock_repurchasedYearBeforeIPO \t\t\t <class 'numpy.float64'>\n",
            "1424 \t Operating_cash_flowYearBeforeIPO \t\t\t <class 'numpy.float64'>\n",
            "1425 \t Capital_expenditureYearBeforeIPO \t\t\t <class 'numpy.float64'>\n",
            "1426 \t Free_cash_flowYearBeforeIPO \t\t\t <class 'numpy.float64'>\n",
            "1427 \t Fiscal_year_ends_in_November_USDYearBeforeIPO \t\t\t <class 'float'>\n",
            "1428 \t Depreciation_and_amortizationYearBeforeIPO \t\t\t <class 'numpy.float64'>\n",
            "1429 \t Other_operating_expensesYearBeforeIPO \t\t\t <class 'numpy.float64'>\n",
            "1430 \t Provision_for_income_taxesYearBeforeIPO \t\t\t <class 'numpy.float64'>\n",
            "1431 \t Other_non-cash_itemsYearBeforeIPO \t\t\t <class 'numpy.float64'>\n",
            "1432 \t Debt_issuedYearBeforeIPO \t\t\t <class 'numpy.float64'>\n",
            "1433 \t Cash_paid_for_interestYearBeforeIPO \t\t\t <class 'numpy.float64'>\n",
            "1434 \t Fiscal_year_ends_in_December_EURYearBeforeIPO \t\t\t <class 'float'>\n",
            "1435 \t Sales/Maturities_of_investmentsYearBeforeIPO \t\t\t <class 'numpy.float64'>\n",
            "1436 \t Purchases_of_intangiblesYearBeforeIPO \t\t\t <class 'numpy.float64'>\n",
            "1437 \t Common_stock_issuedYearBeforeIPO \t\t\t <class 'numpy.float64'>\n",
            "1438 \t Total_cashYearBeforeIPO \t\t\t <class 'numpy.float64'>\n",
            "1439 \t ReceivablesYearBeforeIPO \t\t\t <class 'numpy.float64'>\n",
            "1440 \t Other_current_assetsYearBeforeIPO \t\t\t <class 'numpy.float64'>\n",
            "1441 \t Total_current_assetsYearBeforeIPO \t\t\t <class 'numpy.float64'>\n",
            "1442 \t Gross_property,_plant_and_equipmentYearBeforeIPO \t\t\t <class 'numpy.float64'>\n",
            "1443 \t Accumulated_DepreciationYearBeforeIPO \t\t\t <class 'numpy.float64'>\n",
            "1444 \t Net_property,_plant_and_equipmentYearBeforeIPO \t\t\t <class 'numpy.float64'>\n",
            "1445 \t Intangible_assetsYearBeforeIPO \t\t\t <class 'numpy.float64'>\n",
            "1446 \t Other_long-term_assetsYearBeforeIPO \t\t\t <class 'numpy.float64'>\n",
            "1447 \t Total_non-current_assetsYearBeforeIPO \t\t\t <class 'numpy.float64'>\n",
            "1448 \t Deferred_revenuesYearBeforeIPO \t\t\t <class 'numpy.float64'>\n",
            "1449 \t Other_current_liabilitiesYearBeforeIPO \t\t\t <class 'numpy.float64'>\n",
            "1450 \t Total_current_liabilitiesYearBeforeIPO \t\t\t <class 'numpy.float64'>\n",
            "1451 \t Long-term_debtYearBeforeIPO \t\t\t <class 'numpy.float64'>\n",
            "1452 \t Other_long-term_liabilitiesYearBeforeIPO \t\t\t <class 'numpy.float64'>\n",
            "1453 \t Total_non-current_liabilitiesYearBeforeIPO \t\t\t <class 'numpy.float64'>\n",
            "1454 \t Common_stockYearBeforeIPO \t\t\t <class 'numpy.float64'>\n",
            "1455 \t Other_EquityYearBeforeIPO \t\t\t <class 'numpy.float64'>\n",
            "1456 \t Deferred_income_taxesYearBeforeIPO \t\t\t <class 'numpy.float64'>\n",
            "1457 \t InventoryYearBeforeIPO \t\t\t <class 'numpy.float64'>\n",
            "1458 \t Debt_repaymentYearBeforeIPO \t\t\t <class 'numpy.float64'>\n",
            "1459 \t Effect_of_exchange_rate_changesYearBeforeIPO \t\t\t <class 'numpy.float64'>\n",
            "1460 \t Property,_plant,_and_equipment_reductionsYearBeforeIPO \t\t\t <class 'numpy.float64'>\n",
            "1461 \t Operating_expensesYearBeforeIPO \t\t\t <class 'numpy.float64'>\n",
            "1462 \t Total_expensesYearBeforeIPO \t\t\t <class 'numpy.float64'>\n",
            "1463 \t Interest_incomeYearBeforeIPO \t\t\t <class 'numpy.float64'>\n",
            "1464 \t Interest_expensesYearBeforeIPO \t\t\t <class 'numpy.float64'>\n",
            "1465 \t Gain_on_sale_of_equity_investmentYearBeforeIPO \t\t\t <class 'numpy.float64'>\n",
            "1466 \t Preferred_distributionsYearBeforeIPO \t\t\t <class 'numpy.float64'>\n",
            "1467 \t Repurchases_of_treasury_stockYearBeforeIPO \t\t\t <class 'numpy.float64'>\n",
            "1468 \t Cash_dividends_paidYearBeforeIPO \t\t\t <class 'numpy.float64'>\n",
            "1469 \t Payables_and_accrued_expensesYearBeforeIPO \t\t\t <class 'numpy.float64'>\n",
            "1470 \t Preferred_stockYearBeforeIPO \t\t\t <class 'numpy.float64'>\n",
            "1471 \t Accumulated_other_comprehensive_incomeYearBeforeIPO \t\t\t <class 'numpy.float64'>\n",
            "1472 \t Interest_payableYearBeforeIPO \t\t\t <class 'numpy.float64'>\n",
            "1473 \t Short-term_debtYearBeforeIPO \t\t\t <class 'numpy.float64'>\n",
            "1474 \t Nonrecurring_expenseYearBeforeIPO \t\t\t <class 'numpy.float64'>\n",
            "1475 \t Interest_expenseYearBeforeIPO \t\t\t <class 'numpy.float64'>\n",
            "1476 \t Total_nonoperating_income,_netYearBeforeIPO \t\t\t <class 'numpy.float64'>\n",
            "1477 \t GoodwillYearBeforeIPO \t\t\t <class 'numpy.float64'>\n",
            "1478 \t Other_incomeYearBeforeIPO \t\t\t <class 'numpy.float64'>\n",
            "1479 \t InventoriesYearBeforeIPO \t\t\t <class 'numpy.float64'>\n",
            "1480 \t Equity_and_other_investmentsYearBeforeIPO \t\t\t <class 'numpy.float64'>\n",
            "1481 \t Taxes_payableYearBeforeIPO \t\t\t <class 'numpy.float64'>\n",
            "1482 \t Realized_capital_gains_(losses),_netYearBeforeIPO \t\t\t <class 'numpy.float64'>\n",
            "1483 \t Policy_acquisition_and_other_expensesYearBeforeIPO \t\t\t <class 'numpy.float64'>\n",
            "1484 \t Investments_(gains)_lossesYearBeforeIPO \t\t\t <class 'numpy.float64'>\n",
            "1485 \t Equity_in_(income)_loss_from_equity_method_investmentsYearBeforeIPO \t\t\t <class 'numpy.float64'>\n",
            "1486 \t Acquisitions_and_dispositionsYearBeforeIPO \t\t\t <class 'numpy.float64'>\n",
            "1487 \t Property,_and_equipments,_netYearBeforeIPO \t\t\t <class 'numpy.float64'>\n",
            "1488 \t Long-term_debt_issuedYearBeforeIPO \t\t\t <class 'numpy.float64'>\n",
            "1489 \t Accrued_investment_incomeYearBeforeIPO \t\t\t <class 'numpy.float64'>\n",
            "1490 \t Treasury_stockYearBeforeIPO \t\t\t <class 'numpy.float64'>\n",
            "1491 \t Other_liabilities_and_equitiesYearBeforeIPO \t\t\t <class 'numpy.float64'>\n",
            "1492 \t Cash_and_due_from_banksYearBeforeIPO \t\t\t <class 'numpy.float64'>\n",
            "1493 \t Debt_securitiesYearBeforeIPO \t\t\t <class 'numpy.float64'>\n",
            "1494 \t LoansYearBeforeIPO \t\t\t <class 'numpy.float64'>\n",
            "1495 \t Allowance_for_loan_lossesYearBeforeIPO \t\t\t <class 'numpy.float64'>\n",
            "1496 \t Net_loansYearBeforeIPO \t\t\t <class 'numpy.float64'>\n",
            "1497 \t Premises_and_equipmentYearBeforeIPO \t\t\t <class 'numpy.float64'>\n",
            "1498 \t Other_intangible_assetsYearBeforeIPO \t\t\t <class 'numpy.float64'>\n",
            "1499 \t DepositsYearBeforeIPO \t\t\t <class 'numpy.float64'>\n",
            "1500 \t Operation_and_maintenanceYearBeforeIPO \t\t\t <class 'numpy.float64'>\n",
            "1501 \t OtherYearBeforeIPO \t\t\t <class 'numpy.float64'>\n",
            "1502 \t Preferred_stock_repaidYearBeforeIPO \t\t\t <class 'numpy.float64'>\n",
            "1503 \t Minority_interestYearBeforeIPO \t\t\t <class 'numpy.float64'>\n",
            "1504 \t Other_operating_gain_(loss)YearBeforeIPO \t\t\t <class 'numpy.float64'>\n",
            "1505 \t Loans_and_LeasesYearBeforeIPO \t\t\t <class 'numpy.float64'>\n",
            "1506 \t Deposits_with_banksYearBeforeIPO \t\t\t <class 'numpy.float64'>\n",
            "1507 \t Federal_funds_soldYearBeforeIPO \t\t\t <class 'numpy.float64'>\n",
            "1508 \t Total_interest_incomeYearBeforeIPO \t\t\t <class 'numpy.float64'>\n",
            "1509 \t Federal_funds_purchasedYearBeforeIPO \t\t\t <class 'numpy.float64'>\n",
            "1510 \t Other_expenseYearBeforeIPO \t\t\t <class 'numpy.float64'>\n",
            "1511 \t Total_interest_expenseYearBeforeIPO \t\t\t <class 'numpy.float64'>\n",
            "1512 \t Net_interest_incomeYearBeforeIPO \t\t\t <class 'numpy.float64'>\n",
            "1513 \t Commissions_and_feesYearBeforeIPO \t\t\t <class 'numpy.float64'>\n",
            "1514 \t Lending_and_deposit-related_feesYearBeforeIPO \t\t\t <class 'numpy.float64'>\n",
            "1515 \t Securities_gains_(losses)YearBeforeIPO \t\t\t <class 'numpy.float64'>\n",
            "1516 \t Total_noninterest_revenueYearBeforeIPO \t\t\t <class 'numpy.float64'>\n",
            "1517 \t Total_net_revenueYearBeforeIPO \t\t\t <class 'numpy.float64'>\n",
            "1518 \t Provisions_for_credit_lossesYearBeforeIPO \t\t\t <class 'numpy.float64'>\n",
            "1519 \t Compensation_and_benefitsYearBeforeIPO \t\t\t <class 'numpy.float64'>\n",
            "1520 \t Occupancy_expenseYearBeforeIPO \t\t\t <class 'numpy.float64'>\n",
            "1521 \t Tech,_communication_and_equipmentYearBeforeIPO \t\t\t <class 'numpy.float64'>\n",
            "1522 \t Professional_and_outside_servicesYearBeforeIPO \t\t\t <class 'numpy.float64'>\n",
            "1523 \t Total_noninterest_expensesYearBeforeIPO \t\t\t <class 'numpy.float64'>\n",
            "1524 \t Income_(loss)_from_cont_ops_before_taxesYearBeforeIPO \t\t\t <class 'numpy.float64'>\n",
            "1525 \t Provision_(benefit)_for_taxesYearBeforeIPO \t\t\t <class 'numpy.float64'>\n",
            "1526 \t Provision_for_credit_lossesYearBeforeIPO \t\t\t <class 'numpy.float64'>\n",
            "1527 \t Amortization_of_debt_and_issuance_costsYearBeforeIPO \t\t\t <class 'numpy.float64'>\n",
            "1528 \t Deferred_tax_(benefit)_expenseYearBeforeIPO \t\t\t <class 'numpy.float64'>\n",
            "1529 \t Sales/maturity_of_investmentsYearBeforeIPO \t\t\t <class 'numpy.float64'>\n",
            "1530 \t Changes_in_loans,_netYearBeforeIPO \t\t\t <class 'numpy.float64'>\n",
            "1531 \t Change_in_depositsYearBeforeIPO \t\t\t <class 'numpy.float64'>\n",
            "1532 \t Excess_tax_benefit_from_stock_based_compensationYearBeforeIPO \t\t\t <class 'numpy.float64'>\n",
            "1533 \t Capital_leasesYearBeforeIPO \t\t\t <class 'numpy.float64'>\n",
            "1534 \t Pensions_and_other_benefitsYearBeforeIPO \t\t\t <class 'numpy.float64'>\n",
            "1535 \t Real_estate_propertiesYearBeforeIPO \t\t\t <class 'numpy.float64'>\n",
            "1536 \t Accumulated_depreciationYearBeforeIPO \t\t\t <class 'numpy.float64'>\n",
            "1537 \t Real_estate_properties,_netYearBeforeIPO \t\t\t <class 'numpy.float64'>\n",
            "1538 \t Deferred_taxes_liabilitiesYearBeforeIPO \t\t\t <class 'numpy.float64'>\n",
            "1539 \t Dividend_paidYearBeforeIPO \t\t\t <class 'numpy.float64'>\n",
            "1540 \t Credit_card_incomeYearBeforeIPO \t\t\t <class 'numpy.float64'>\n",
            "1541 \t Insurance_premiumYearBeforeIPO \t\t\t <class 'numpy.float64'>\n",
            "1542 \t Amortization_of_intangiblesYearBeforeIPO \t\t\t <class 'numpy.float64'>\n",
            "1543 \t Change_in_federal_funds_purchasedYearBeforeIPO \t\t\t <class 'numpy.float64'>\n",
            "1544 \t Long-term_debt_repaymentYearBeforeIPO \t\t\t <class 'numpy.float64'>\n",
            "1545 \t Fiscal_year_ends_in_December_ILSYearBeforeIPO \t\t\t <class 'float'>\n",
            "1546 \t Net_income_from_discontinuing_opsYearBeforeIPO \t\t\t <class 'numpy.float64'>\n",
            "1547 \t Acquisitions,_netYearBeforeIPO \t\t\t <class 'numpy.float64'>\n",
            "1548 \t Fiscal_year_ends_in_September_USDYearBeforeIPO \t\t\t <class 'float'>\n",
            "1549 \t Total_costs_and_expensesYearBeforeIPO \t\t\t <class 'numpy.float64'>\n",
            "1550 \t Total_Stockholders_equityYearBeforeIPO \t\t\t <class 'numpy.float64'>\n",
            "1551 \t Fiscal_year_ends_in_August_USDYearBeforeIPO \t\t\t <class 'float'>\n",
            "1552 \t Other_special_chargesYearBeforeIPO \t\t\t <class 'numpy.float64'>\n",
            "1553 \t Fiscal_year_ends_in_January_USDYearBeforeIPO \t\t\t <class 'float'>\n",
            "1554 \t Fiscal_year_ends_in_March_USDYearBeforeIPO \t\t\t <class 'float'>\n",
            "1555 \t Fiscal_year_ends_in_January_CADYearBeforeIPO \t\t\t <class 'float'>\n",
            "1556 \t Other_investing_chargesYearBeforeIPO \t\t\t <class 'numpy.float64'>\n",
            "1557 \t LandYearBeforeIPO \t\t\t <class 'numpy.float64'>\n",
            "1558 \t Fixtures_and_equipmentYearBeforeIPO \t\t\t <class 'numpy.float64'>\n",
            "1559 \t Other_propertiesYearBeforeIPO \t\t\t <class 'numpy.float64'>\n",
            "1560 \t Property_and_equipment,_at_costYearBeforeIPO \t\t\t <class 'numpy.float64'>\n",
            "1561 \t Property,_plant_and_equipment,_netYearBeforeIPO \t\t\t <class 'numpy.float64'>\n",
            "1562 \t Restructuring,_merger_and_acquisitionYearBeforeIPO \t\t\t <class 'numpy.float64'>\n",
            "1563 \t Deferred_chargesYearBeforeIPO \t\t\t <class 'numpy.float64'>\n",
            "1564 \t Fiscal_year_ends_in_June_USDYearBeforeIPO \t\t\t <class 'float'>\n",
            "1565 \t Total_cash_and_cash_equivalentsYearBeforeIPO \t\t\t <class 'numpy.float64'>\n",
            "1566 \t Securities_available_for_saleYearBeforeIPO \t\t\t <class 'numpy.float64'>\n",
            "1567 \t Securities_held_to_maturityYearBeforeIPO \t\t\t <class 'numpy.float64'>\n",
            "1568 \t Federal_Home_Loan_Bank_stockYearBeforeIPO \t\t\t <class 'numpy.float64'>\n",
            "1569 \t Total_securitiesYearBeforeIPO \t\t\t <class 'numpy.float64'>\n",
            "1570 \t Commercial_loansYearBeforeIPO \t\t\t <class 'numpy.float64'>\n",
            "1571 \t Residential_loansYearBeforeIPO \t\t\t <class 'numpy.float64'>\n",
            "1572 \t Consumer_loansYearBeforeIPO \t\t\t <class 'numpy.float64'>\n",
            "1573 \t Total_loansYearBeforeIPO \t\t\t <class 'numpy.float64'>\n",
            "1574 \t Total_loans,_netYearBeforeIPO \t\t\t <class 'numpy.float64'>\n",
            "1575 \t Interest_receivableYearBeforeIPO \t\t\t <class 'numpy.float64'>\n",
            "1576 \t Premises_and_equipment,_netYearBeforeIPO \t\t\t <class 'numpy.float64'>\n",
            "1577 \t Other_intangiblesYearBeforeIPO \t\t\t <class 'numpy.float64'>\n",
            "1578 \t Non-interest-bearingYearBeforeIPO \t\t\t <class 'numpy.float64'>\n",
            "1579 \t Interest-bearingYearBeforeIPO \t\t\t <class 'numpy.float64'>\n",
            "1580 \t Total_depositsYearBeforeIPO \t\t\t <class 'numpy.float64'>\n",
            "1581 \t Accrued_expenses_and_liabilitiesYearBeforeIPO \t\t\t <class 'numpy.float64'>\n",
            "1582 \t Prepaid_pension_benefitYearBeforeIPO \t\t\t <class 'numpy.float64'>\n",
            "1583 \t InvestmentsYearBeforeIPO \t\t\t <class 'numpy.float64'>\n",
            "1584 \t Restricted_cashYearBeforeIPO \t\t\t <class 'numpy.float64'>\n",
            "1585 \t Short-term_borrowingYearBeforeIPO \t\t\t <class 'numpy.float64'>\n",
            "1586 \t Net_income_from_continuing_opsYearBeforeIPO \t\t\t <class 'numpy.float64'>\n",
            "1587 \t Technology_and_occupancyYearBeforeIPO \t\t\t <class 'numpy.float64'>\n",
            "1588 \t Advertising_and_promotionYearBeforeIPO \t\t\t <class 'numpy.float64'>\n",
            "1589 \t Fiscal_year_ends_in_December_CNYYearBeforeIPO \t\t\t <class 'float'>\n",
            "1590 \t Fiscal_year_ends_in_June_CNYYearBeforeIPO \t\t\t <class 'float'>\n",
            "1591 \t Total_interest_and_dividend_incomeYearBeforeIPO \t\t\t <class 'numpy.float64'>\n",
            "1592 \t Revenues,_net_of_interest_expenseYearBeforeIPO \t\t\t <class 'numpy.float64'>\n",
            "1593 \t Total_noninterest_expenseYearBeforeIPO \t\t\t <class 'numpy.float64'>\n",
            "1594 \t Income_taxesYearBeforeIPO \t\t\t <class 'numpy.float64'>\n",
            "1595 \t Preferred_dividendsYearBeforeIPO \t\t\t <class 'numpy.float64'>\n",
            "1596 \t Restricted_cash_and_cash_equivalentsYearBeforeIPO \t\t\t <class 'numpy.float64'>\n",
            "1597 \t Securities_and_investmentsYearBeforeIPO \t\t\t <class 'numpy.float64'>\n",
            "1598 \t Provision_for_loan_lossesYearBeforeIPO \t\t\t <class 'numpy.float64'>\n",
            "1599 \t Net_interest_inc_after_prov_for_loan_lossesYearBeforeIPO \t\t\t <class 'numpy.float64'>\n",
            "1600 \t Insurance_commissionsYearBeforeIPO \t\t\t <class 'numpy.float64'>\n",
            "1601 \t Provision_(benefit)_for_income_taxesYearBeforeIPO \t\t\t <class 'numpy.float64'>\n",
            "1602 \t Change_in_short-term_borrowingYearBeforeIPO \t\t\t <class 'numpy.float64'>\n",
            "1603 \t Change_in_deposits_with_banksYearBeforeIPO \t\t\t <class 'numpy.float64'>\n",
            "1604 \t Other_distributionsYearBeforeIPO \t\t\t <class 'numpy.float64'>\n",
            "1605 \t Property_and_equipmentYearBeforeIPO \t\t\t <class 'numpy.float64'>\n",
            "1606 \t Minority_InterestYearBeforeIPO \t\t\t <class 'numpy.float64'>\n",
            "1607 \t Fiscal_year_ends_in_February_USDYearBeforeIPO \t\t\t <class 'float'>\n",
            "1608 \t Change_in_federal_funds_soldYearBeforeIPO \t\t\t <class 'numpy.float64'>\n",
            "1609 \t Purchases_of_intangibles,_netYearBeforeIPO \t\t\t <class 'numpy.float64'>\n",
            "1610 \t Fiscal_year_ends_in_December_GBPYearBeforeIPO \t\t\t <class 'float'>\n",
            "1611 \t Service_fees_and_commissionsYearBeforeIPO \t\t\t <class 'numpy.float64'>\n",
            "1612 \t Investment_income_due_and_accruedYearBeforeIPO \t\t\t <class 'numpy.float64'>\n",
            "1613 \t Fixed_maturity_securitiesYearBeforeIPO \t\t\t <class 'numpy.float64'>\n",
            "1614 \t Real_estateYearBeforeIPO \t\t\t <class 'numpy.float64'>\n",
            "1615 \t Change_in_federal_funds_sold_and_securities_purchased_under_resale_agreementsYearBeforeIPO \t\t\t <class 'numpy.float64'>\n",
            "1616 \t Deferred_tax(benefit)_expenseYearBeforeIPO \t\t\t <class 'numpy.float64'>\n",
            "1617 \t Fiscal_year_ends_in_July_USDYearBeforeIPO \t\t\t <class 'float'>\n",
            "1618 \t Other_equityYearBeforeIPO \t\t\t <class 'numpy.float64'>\n",
            "1619 \t Deferred_taxesYearBeforeIPO \t\t\t <class 'numpy.float64'>\n",
            "1620 \t Redemption_of_preferred_stockYearBeforeIPO \t\t\t <class 'numpy.float64'>\n",
            "1621 \t Fiscal_year_ends_in_March_INRYearBeforeIPO \t\t\t <class 'float'>\n",
            "1622 \t Fiscal_year_ends_in_December_DKKYearBeforeIPO \t\t\t <class 'float'>\n",
            "1623 \t Fiscal_year_ends_in_September_EURYearBeforeIPO \t\t\t <class 'float'>\n",
            "1624 \t Fiscal_year_ends_in_March_CNYYearBeforeIPO \t\t\t <class 'float'>\n",
            "1625 \t Income_from_discontinued_operationsYearBeforeIPO \t\t\t <class 'numpy.float64'>\n",
            "1626 \t (Gains)_loss_on_disposition_of_businessesYearBeforeIPO \t\t\t <class 'numpy.float64'>\n",
            "1627 \t General_PartnerYearBeforeIPO \t\t\t <class 'numpy.float64'>\n",
            "1628 \t Loans_issuedYearBeforeIPO \t\t\t <class 'numpy.float64'>\n",
            "1629 \t Trading_securitiesYearBeforeIPO \t\t\t <class 'numpy.float64'>\n",
            "1630 \t Loans,_totalYearBeforeIPO \t\t\t <class 'numpy.float64'>\n",
            "1631 \t Fiscal_year_ends_in_April_USDYearBeforeIPO \t\t\t <class 'float'>\n",
            "1632 \t Fiscal_year_ends_in_August_CNYYearBeforeIPO \t\t\t <class 'float'>\n",
            "1633 \t Deferred_tax_liabilitiesYearBeforeIPO \t\t\t <class 'numpy.float64'>\n",
            "1634 \t Fiscal_year_ends_in_March_CADYearBeforeIPO \t\t\t <class 'float'>\n",
            "1635 \t Fiscal_year_ends_in_December_ARSYearBeforeIPO \t\t\t <class 'float'>\n",
            "1636 \t Derivative_assetsYearBeforeIPO \t\t\t <class 'numpy.float64'>\n",
            "1637 \t Derivative_liabilitiesYearBeforeIPO \t\t\t <class 'numpy.float64'>\n",
            "1638 \t Sales_of_intangiblesYearBeforeIPO \t\t\t <class 'numpy.float64'>\n",
            "1639 \t Prepaid_pension_costsYearBeforeIPO \t\t\t <class 'numpy.float64'>\n",
            "1640 \t Regulatory_assetsYearBeforeIPO \t\t\t <class 'numpy.float64'>\n",
            "1641 \t Regulatory_liabilitiesYearBeforeIPO \t\t\t <class 'numpy.float64'>\n",
            "1642 \t Fiscal_year_ends_in_December_CLPYearBeforeIPO \t\t\t <class 'float'>\n",
            "1643 \t Fiscal_year_ends_in_May_USDYearBeforeIPO \t\t\t <class 'float'>\n",
            "1644 \t Fiscal_year_ends_in_December_JPYYearBeforeIPO \t\t\t <class 'float'>\n",
            "1645 \t Fiscal_year_ends_in_December_CADYearBeforeIPO \t\t\t <class 'float'>\n",
            "1646 \t Fiscal_year_ends_in_December_BRLYearBeforeIPO \t\t\t <class 'float'>\n",
            "1647 \t Pensions_and_other_postretirement_benefitsYearBeforeIPO \t\t\t <class 'numpy.float64'>\n",
            "1648 \t Fiscal_year_ends_in_October_USDYearBeforeIPO \t\t\t <class 'float'>\n",
            "1649 \t MarketMonthTrend \t\t\t <class 'numpy.float64'>\n",
            "1650 \t Market3MonthTrend \t\t\t <class 'numpy.float64'>\n",
            "1651 \t Market6MonthTrend \t\t\t <class 'numpy.float64'>\n",
            "1652 \t MarketYearTrend \t\t\t <class 'numpy.float64'>\n",
            "1653 \t employeesGrouped \t\t\t <class 'str'>\n",
            "1654 \t USACompany \t\t\t <class 'str'>\n",
            "1655 \t FiscalMonth \t\t\t <class 'str'>\n",
            "1656 \t usableCEOAge \t\t\t <class 'str'>\n",
            "1657 \t usableCEOGender \t\t\t <class 'str'>\n",
            "1658 \t usablePresidentAge \t\t\t <class 'str'>\n",
            "1659 \t usablePresidentGender \t\t\t <class 'str'>\n",
            "1660 \t FoundingDateGrouped \t\t\t <class 'str'>\n",
            "1661 \t yearDifferenceGrouped \t\t\t <class 'str'>\n",
            "1662 \t Profitable \t\t\t <class 'numpy.int64'>\n",
            "1663 \t Safe \t\t\t <class 'numpy.int64'>\n",
            "1664 \t HomeRunDay \t\t\t <class 'numpy.float64'>\n",
            "1665 \t HomeRun \t\t\t <class 'numpy.int64'>\n"
          ]
        }
      ]
    },
    {
      "cell_type": "code",
      "metadata": {
        "id": "iyAu22b3MB6S"
      },
      "source": [
        "# removing no volume stocks\n",
        "df = df[df[\"volumeDay0\"] > 100]"
      ],
      "execution_count": 4,
      "outputs": []
    },
    {
      "cell_type": "code",
      "metadata": {
        "id": "MIux73YtECS2"
      },
      "source": [
        "df = df.dropna(subset=[\"Revenue\", \"netIncome\", \"Sector\", \"yearDifference\", \"FoundingDateGrouped\", \"CEOAge\"])"
      ],
      "execution_count": 5,
      "outputs": []
    },
    {
      "cell_type": "code",
      "metadata": {
        "id": "p6b2XqLe9RZG"
      },
      "source": [
        "# looking at ADT\n",
        "df[\"openDay0\"] = df[\"lowDay0\"]\n",
        "df = df.dropna(subset=[\"openDay0\",\"closeDay0\"])"
      ],
      "execution_count": 6,
      "outputs": []
    },
    {
      "cell_type": "markdown",
      "metadata": {
        "id": "aG7qPNXsC2Fw"
      },
      "source": [
        "FoundingDateGrouped, employeesGrouped, FiscalMonth, CEOAge"
      ]
    },
    {
      "cell_type": "code",
      "metadata": {
        "id": "KFMMZA8qDzBw"
      },
      "source": [
        "df = df[df[\"employeesGrouped\"] != \"Blank\"]"
      ],
      "execution_count": 7,
      "outputs": []
    },
    {
      "cell_type": "code",
      "metadata": {
        "colab": {
          "base_uri": "https://localhost:8080/"
        },
        "id": "9Vgdx3TBCuR1",
        "outputId": "04250bc7-2a54-4faa-85ad-61813d0d063d"
      },
      "source": [
        "df[\"CEOAge\"].describe()"
      ],
      "execution_count": 8,
      "outputs": [
        {
          "output_type": "execute_result",
          "data": {
            "text/plain": [
              "count    1973.000000\n",
              "mean       54.980233\n",
              "std         7.501867\n",
              "min        26.000000\n",
              "25%        50.000000\n",
              "50%        55.000000\n",
              "75%        60.000000\n",
              "max        84.000000\n",
              "Name: CEOAge, dtype: float64"
            ]
          },
          "metadata": {},
          "execution_count": 8
        }
      ]
    },
    {
      "cell_type": "code",
      "metadata": {
        "colab": {
          "base_uri": "https://localhost:8080/"
        },
        "id": "dCgYPTWbDEcj",
        "outputId": "60c01e9c-b6e2-4bbd-c764-bf2ffbeb0b43"
      },
      "source": [
        "df[\"FiscalMonth\"].unique()"
      ],
      "execution_count": 9,
      "outputs": [
        {
          "output_type": "execute_result",
          "data": {
            "text/plain": [
              "array(['Oct', 'Dec', 'Sep', 'Aug', 'May', 'Jun', 'Jan', 'Mar', 'Apr',\n",
              "       'Nov', 'Jul', 'Feb'], dtype=object)"
            ]
          },
          "metadata": {},
          "execution_count": 9
        }
      ]
    },
    {
      "cell_type": "code",
      "metadata": {
        "colab": {
          "base_uri": "https://localhost:8080/",
          "height": 427
        },
        "id": "N2NFBOm0OBe4",
        "outputId": "621369f5-569c-455d-89a3-298a771095ac"
      },
      "source": [
        "df[\"Sector\"].value_counts().plot.bar()\n",
        "plt.xlabel(\"Sector\")\n",
        "plt.ylabel(\"Count\")\n",
        "plt.title(\"Histogram of Company Sector\")"
      ],
      "execution_count": 10,
      "outputs": [
        {
          "output_type": "execute_result",
          "data": {
            "text/plain": [
              "Text(0.5, 1.0, 'Histogram of Company Sector')"
            ]
          },
          "metadata": {},
          "execution_count": 10
        },
        {
          "output_type": "display_data",
          "data": {
            "image/png": "[encoded data removed]",
            "text/plain": [
              "<Figure size 432x288 with 1 Axes>"
            ]
          },
          "metadata": {
            "needs_background": "light"
          }
        }
      ]
    },
    {
      "cell_type": "code",
      "metadata": {
        "colab": {
          "base_uri": "https://localhost:8080/"
        },
        "id": "7aklzpFveHiI",
        "outputId": "04ba177f-c8ae-472f-e683-147a01e24221"
      },
      "source": [
        "df[\"Industry\"] = df[\"Industry\"].fillna(\"Missing\")\n",
        "df[\"Industry\"].value_counts()"
      ],
      "execution_count": 11,
      "outputs": [
        {
          "output_type": "execute_result",
          "data": {
            "text/plain": [
              "Major Pharmaceuticals                      168\n",
              "Major Banks                                128\n",
              "Real Estate Investment Trusts               99\n",
              "Computer Software: Prepackaged Software     78\n",
              "EDP Services                                66\n",
              "                                          ... \n",
              "Oil/Gas Transmission                         1\n",
              "Textiles                                     1\n",
              "Paints/Coatings                              1\n",
              "Aluminum                                     1\n",
              "Electronics Distribution                     1\n",
              "Name: Industry, Length: 126, dtype: int64"
            ]
          },
          "metadata": {},
          "execution_count": 11
        }
      ]
    },
    {
      "cell_type": "code",
      "metadata": {
        "colab": {
          "base_uri": "https://localhost:8080/"
        },
        "id": "qH1nCF20FhN7",
        "outputId": "cf0ccffb-7caa-4f2e-e78b-bc52310d0102"
      },
      "source": [
        "(df[\"yearDifference\"])[df[\"yearDifference\"] < 0] = 0"
      ],
      "execution_count": 12,
      "outputs": [
        {
          "output_type": "stream",
          "name": "stderr",
          "text": [
            "/usr/local/lib/python3.7/dist-packages/ipykernel_launcher.py:1: SettingWithCopyWarning: \n",
            "A value is trying to be set on a copy of a slice from a DataFrame\n",
            "\n",
            "See the caveats in the documentation: https://pandas.pydata.org/pandas-docs/stable/user_guide/indexing.html#returning-a-view-versus-a-copy\n",
            "  \"\"\"Entry point for launching an IPython kernel.\n"
          ]
        }
      ]
    },
    {
      "cell_type": "code",
      "metadata": {
        "id": "r4Twh0qremEN"
      },
      "source": [
        "df[\"day0PctChange\"] = (df[\"closeDay0\"] - df[\"openDay0\"])/df[\"openDay0\"]"
      ],
      "execution_count": 13,
      "outputs": []
    },
    {
      "cell_type": "code",
      "metadata": {
        "colab": {
          "base_uri": "https://localhost:8080/",
          "height": 99
        },
        "id": "dUOqwWIu8xw5",
        "outputId": "580a3ce8-6168-4fac-d256-6b8401ca7fc7"
      },
      "source": [
        "df[df[\"day0PctChange\"].isna()]"
      ],
      "execution_count": 14,
      "outputs": [
        {
          "output_type": "execute_result",
          "data": {
            "text/html": [
              "<div>\n",
              "<style scoped>\n",
              "    .dataframe tbody tr th:only-of-type {\n",
              "        vertical-align: middle;\n",
              "    }\n",
              "\n",
              "    .dataframe tbody tr th {\n",
              "        vertical-align: top;\n",
              "    }\n",
              "\n",
              "    .dataframe thead th {\n",
              "        text-align: right;\n",
              "    }\n",
              "</style>\n",
              "<table border=\"1\" class=\"dataframe\">\n",
              "  <thead>\n",
              "    <tr style=\"text-align: right;\">\n",
              "      <th></th>\n",
              "      <th>Symbol</th>\n",
              "      <th>DaysBetterThanSP</th>\n",
              "      <th>daysProfit</th>\n",
              "      <th>daysProfitGrouped</th>\n",
              "      <th>exactDiffernce</th>\n",
              "      <th>Year</th>\n",
              "      <th>Month</th>\n",
              "      <th>Day</th>\n",
              "      <th>dayOfWeek</th>\n",
              "      <th>closeDay0</th>\n",
              "      <th>highDay0</th>\n",
              "      <th>openDay0</th>\n",
              "      <th>lowDay0</th>\n",
              "      <th>volumeDay0</th>\n",
              "      <th>closeDay1</th>\n",
              "      <th>highDay1</th>\n",
              "      <th>openDay1</th>\n",
              "      <th>lowDay1</th>\n",
              "      <th>volumeDay1</th>\n",
              "      <th>closeDay2</th>\n",
              "      <th>highDay2</th>\n",
              "      <th>openDay2</th>\n",
              "      <th>lowDay2</th>\n",
              "      <th>volumeDay2</th>\n",
              "      <th>closeDay3</th>\n",
              "      <th>highDay3</th>\n",
              "      <th>openDay3</th>\n",
              "      <th>lowDay3</th>\n",
              "      <th>volumeDay3</th>\n",
              "      <th>closeDay4</th>\n",
              "      <th>highDay4</th>\n",
              "      <th>openDay4</th>\n",
              "      <th>lowDay4</th>\n",
              "      <th>volumeDay4</th>\n",
              "      <th>closeDay5</th>\n",
              "      <th>highDay5</th>\n",
              "      <th>openDay5</th>\n",
              "      <th>lowDay5</th>\n",
              "      <th>volumeDay5</th>\n",
              "      <th>closeDay6</th>\n",
              "      <th>...</th>\n",
              "      <th>General_PartnerYearBeforeIPO</th>\n",
              "      <th>Loans_issuedYearBeforeIPO</th>\n",
              "      <th>Trading_securitiesYearBeforeIPO</th>\n",
              "      <th>Loans,_totalYearBeforeIPO</th>\n",
              "      <th>Fiscal_year_ends_in_April_USDYearBeforeIPO</th>\n",
              "      <th>Fiscal_year_ends_in_August_CNYYearBeforeIPO</th>\n",
              "      <th>Deferred_tax_liabilitiesYearBeforeIPO</th>\n",
              "      <th>Fiscal_year_ends_in_March_CADYearBeforeIPO</th>\n",
              "      <th>Fiscal_year_ends_in_December_ARSYearBeforeIPO</th>\n",
              "      <th>Derivative_assetsYearBeforeIPO</th>\n",
              "      <th>Derivative_liabilitiesYearBeforeIPO</th>\n",
              "      <th>Sales_of_intangiblesYearBeforeIPO</th>\n",
              "      <th>Prepaid_pension_costsYearBeforeIPO</th>\n",
              "      <th>Regulatory_assetsYearBeforeIPO</th>\n",
              "      <th>Regulatory_liabilitiesYearBeforeIPO</th>\n",
              "      <th>Fiscal_year_ends_in_December_CLPYearBeforeIPO</th>\n",
              "      <th>Fiscal_year_ends_in_May_USDYearBeforeIPO</th>\n",
              "      <th>Fiscal_year_ends_in_December_JPYYearBeforeIPO</th>\n",
              "      <th>Fiscal_year_ends_in_December_CADYearBeforeIPO</th>\n",
              "      <th>Fiscal_year_ends_in_December_BRLYearBeforeIPO</th>\n",
              "      <th>Pensions_and_other_postretirement_benefitsYearBeforeIPO</th>\n",
              "      <th>Fiscal_year_ends_in_October_USDYearBeforeIPO</th>\n",
              "      <th>MarketMonthTrend</th>\n",
              "      <th>Market3MonthTrend</th>\n",
              "      <th>Market6MonthTrend</th>\n",
              "      <th>MarketYearTrend</th>\n",
              "      <th>employeesGrouped</th>\n",
              "      <th>USACompany</th>\n",
              "      <th>FiscalMonth</th>\n",
              "      <th>usableCEOAge</th>\n",
              "      <th>usableCEOGender</th>\n",
              "      <th>usablePresidentAge</th>\n",
              "      <th>usablePresidentGender</th>\n",
              "      <th>FoundingDateGrouped</th>\n",
              "      <th>yearDifferenceGrouped</th>\n",
              "      <th>Profitable</th>\n",
              "      <th>Safe</th>\n",
              "      <th>HomeRunDay</th>\n",
              "      <th>HomeRun</th>\n",
              "      <th>day0PctChange</th>\n",
              "    </tr>\n",
              "  </thead>\n",
              "  <tbody>\n",
              "  </tbody>\n",
              "</table>\n",
              "<p>0 rows × 1667 columns</p>\n",
              "</div>"
            ],
            "text/plain": [
              "Empty DataFrame\n",
              "Columns: [Symbol, DaysBetterThanSP, daysProfit, daysProfitGrouped, exactDiffernce, Year, Month, Day, dayOfWeek, closeDay0, highDay0, openDay0, lowDay0, volumeDay0, closeDay1, highDay1, openDay1, lowDay1, volumeDay1, closeDay2, highDay2, openDay2, lowDay2, volumeDay2, closeDay3, highDay3, openDay3, lowDay3, volumeDay3, closeDay4, highDay4, openDay4, lowDay4, volumeDay4, closeDay5, highDay5, openDay5, lowDay5, volumeDay5, closeDay6, highDay6, openDay6, lowDay6, volumeDay6, closeDay7, highDay7, openDay7, lowDay7, volumeDay7, closeDay8, highDay8, openDay8, lowDay8, volumeDay8, closeDay9, highDay9, openDay9, lowDay9, volumeDay9, closeDay10, highDay10, openDay10, lowDay10, volumeDay10, closeDay11, highDay11, openDay11, lowDay11, volumeDay11, closeDay12, highDay12, openDay12, lowDay12, volumeDay12, closeDay13, highDay13, openDay13, lowDay13, volumeDay13, closeDay14, highDay14, openDay14, lowDay14, volumeDay14, closeDay15, highDay15, openDay15, lowDay15, volumeDay15, closeDay16, highDay16, openDay16, lowDay16, volumeDay16, closeDay17, highDay17, openDay17, lowDay17, volumeDay17, closeDay18, ...]\n",
              "Index: []\n",
              "\n",
              "[0 rows x 1667 columns]"
            ]
          },
          "metadata": {},
          "execution_count": 14
        }
      ]
    },
    {
      "cell_type": "code",
      "metadata": {
        "colab": {
          "base_uri": "https://localhost:8080/"
        },
        "id": "k-xeT7gbp5Mv",
        "outputId": "26afa789-fcdd-42b7-b302-fe9ff6a7ba07"
      },
      "source": [
        "print(df[\"openDay0\"])"
      ],
      "execution_count": 15,
      "outputs": [
        {
          "output_type": "stream",
          "name": "stdout",
          "text": [
            "0       30.6572\n",
            "1       20.0000\n",
            "2       10.0000\n",
            "3       13.4000\n",
            "4       21.5300\n",
            "         ...   \n",
            "3750    11.0000\n",
            "3752    25.6120\n",
            "3753    27.6000\n",
            "3756    31.5000\n",
            "3757    10.2750\n",
            "Name: openDay0, Length: 1973, dtype: float64\n"
          ]
        }
      ]
    },
    {
      "cell_type": "code",
      "metadata": {
        "colab": {
          "base_uri": "https://localhost:8080/",
          "height": 313
        },
        "id": "XCo1e9lbgTsb",
        "outputId": "abfde058-14f2-4326-d7e6-ed8b9511bd52"
      },
      "source": [
        "plt.hist((df[df[\"day0PctChange\"] < 30])[\"day0PctChange\"]*100, bins = 50)\n",
        "plt.xlabel(\"Percent change in stock on day 1\")\n",
        "plt.ylabel(\"Count\")\n",
        "plt.title(\"Histogram of percent change in stock on day 1\")"
      ],
      "execution_count": 16,
      "outputs": [
        {
          "output_type": "execute_result",
          "data": {
            "text/plain": [
              "Text(0.5, 1.0, 'Histogram of percent change in stock on day 1')"
            ]
          },
          "metadata": {},
          "execution_count": 16
        },
        {
          "output_type": "display_data",
          "data": {
            "image/png": "[encoded data removed]",
            "text/plain": [
              "<Figure size 432x288 with 1 Axes>"
            ]
          },
          "metadata": {
            "needs_background": "light"
          }
        }
      ]
    },
    {
      "cell_type": "code",
      "metadata": {
        "id": "0TB1gX6glz5U"
      },
      "source": [
        "df[\"profitDay0\"] = df[\"day0PctChange\"] > 0"
      ],
      "execution_count": 17,
      "outputs": []
    },
    {
      "cell_type": "code",
      "metadata": {
        "colab": {
          "base_uri": "https://localhost:8080/",
          "height": 329
        },
        "id": "5su6FA_Lq2mv",
        "outputId": "b18111c1-d425-4bf3-90db-6731d436c8ef"
      },
      "source": [
        "df[\"profitDay0\"].value_counts().plot.bar()\n",
        "plt.xlabel(\"If the stock closed at a higher price than it opened\")\n",
        "plt.ylabel(\"Count\")\n",
        "plt.title(\"Histogram of if stock closed higher than it opened on day 1\")"
      ],
      "execution_count": 18,
      "outputs": [
        {
          "output_type": "execute_result",
          "data": {
            "text/plain": [
              "Text(0.5, 1.0, 'Histogram of if stock closed higher than it opened on day 1')"
            ]
          },
          "metadata": {},
          "execution_count": 18
        },
        {
          "output_type": "display_data",
          "data": {
            "image/png": "[encoded data removed]",
            "text/plain": [
              "<Figure size 432x288 with 1 Axes>"
            ]
          },
          "metadata": {
            "needs_background": "light"
          }
        }
      ]
    },
    {
      "cell_type": "code",
      "metadata": {
        "colab": {
          "base_uri": "https://localhost:8080/",
          "height": 313
        },
        "id": "lrRljfDosFVk",
        "outputId": "dab098c6-4b79-4602-9b61-a98a5ac2bf6e"
      },
      "source": [
        "fig, ax = plt.subplots()\n",
        "plt.bar(df['dayOfWeek'].value_counts().index,df['dayOfWeek'].value_counts().values)\n",
        "ax.set_xticklabels([\"\", \"Monday\", \"Tuesday\", \"Wednesday\", \"Thursday\", \"Friday\"])\n",
        "plt.xlabel(\"Day of the Week\")\n",
        "plt.ylabel(\"Count\")\n",
        "plt.title(\"Histogram of the Company IPO Day of the Week\")"
      ],
      "execution_count": 19,
      "outputs": [
        {
          "output_type": "execute_result",
          "data": {
            "text/plain": [
              "Text(0.5, 1.0, 'Histogram of the Company IPO Day of the Week')"
            ]
          },
          "metadata": {},
          "execution_count": 19
        },
        {
          "output_type": "display_data",
          "data": {
            "image/png": "[encoded data removed]",
            "text/plain": [
              "<Figure size 432x288 with 1 Axes>"
            ]
          },
          "metadata": {
            "needs_background": "light"
          }
        }
      ]
    },
    {
      "cell_type": "code",
      "metadata": {
        "colab": {
          "base_uri": "https://localhost:8080/",
          "height": 313
        },
        "id": "Dj_OVsiotQ_s",
        "outputId": "fa44a864-aad4-4104-a9ca-dac6ab7f0570"
      },
      "source": [
        "fig, ax = plt.subplots()\n",
        "plt.bar(df['Year'].value_counts().index,df['Year'].value_counts().values)\n",
        "plt.xlabel(\"Year\")\n",
        "plt.ylabel(\"Count\")\n",
        "plt.title(\"Histogram of IPO Year\")"
      ],
      "execution_count": 20,
      "outputs": [
        {
          "output_type": "execute_result",
          "data": {
            "text/plain": [
              "Text(0.5, 1.0, 'Histogram of IPO Year')"
            ]
          },
          "metadata": {},
          "execution_count": 20
        },
        {
          "output_type": "display_data",
          "data": {
            "image/png": "[encoded data removed]",
            "text/plain": [
              "<Figure size 432x288 with 1 Axes>"
            ]
          },
          "metadata": {
            "needs_background": "light"
          }
        }
      ]
    },
    {
      "cell_type": "code",
      "metadata": {
        "colab": {
          "base_uri": "https://localhost:8080/",
          "height": 313
        },
        "id": "40xxQ4UfRVuk",
        "outputId": "ee6f63ff-64b0-4f04-a490-5ee6f3999aa8"
      },
      "source": [
        "fig, ax = plt.subplots()\n",
        "plt.hist(df['yearDifference'], bins=50)\n",
        "plt.xlabel(\"Years between Year Founded and IPO Year\")\n",
        "plt.ylabel(\"Count\")\n",
        "plt.title(\"Histogram of years between Year Founded and IPO Year\")"
      ],
      "execution_count": 21,
      "outputs": [
        {
          "output_type": "execute_result",
          "data": {
            "text/plain": [
              "Text(0.5, 1.0, 'Histogram of years between Year Founded and IPO Year')"
            ]
          },
          "metadata": {},
          "execution_count": 21
        },
        {
          "output_type": "display_data",
          "data": {
            "image/png": "[encoded data removed]",
            "text/plain": [
              "<Figure size 432x288 with 1 Axes>"
            ]
          },
          "metadata": {
            "needs_background": "light"
          }
        }
      ]
    },
    {
      "cell_type": "code",
      "metadata": {
        "colab": {
          "base_uri": "https://localhost:8080/"
        },
        "id": "PCjEuHq6TBDs",
        "outputId": "a037f633-d6e6-4c7a-97e2-63c3d551c96c"
      },
      "source": [
        "df['RevenueFormat'].describe()"
      ],
      "execution_count": 22,
      "outputs": [
        {
          "output_type": "execute_result",
          "data": {
            "text/plain": [
              "count    1.973000e+03\n",
              "mean     2.512040e+10\n",
              "std      6.159549e+11\n",
              "min      1.400000e+04\n",
              "25%      1.061500e+08\n",
              "50%      4.881400e+08\n",
              "75%      1.800000e+09\n",
              "max      2.641320e+13\n",
              "Name: RevenueFormat, dtype: float64"
            ]
          },
          "metadata": {},
          "execution_count": 22
        }
      ]
    },
    {
      "cell_type": "code",
      "metadata": {
        "colab": {
          "base_uri": "https://localhost:8080/"
        },
        "id": "b798WHBHTQuS",
        "outputId": "22e9cdb4-c4f4-425e-ae13-f0762d1144a8"
      },
      "source": [
        "df[\"netIncomeFormat\"].describe()"
      ],
      "execution_count": 23,
      "outputs": [
        {
          "output_type": "execute_result",
          "data": {
            "text/plain": [
              "count    1.973000e+03\n",
              "mean     1.289950e+09\n",
              "std      1.047643e+11\n",
              "min     -3.117850e+12\n",
              "25%     -2.094000e+07\n",
              "50%      1.282000e+07\n",
              "75%      1.233900e+08\n",
              "max      3.311440e+12\n",
              "Name: netIncomeFormat, dtype: float64"
            ]
          },
          "metadata": {},
          "execution_count": 23
        }
      ]
    },
    {
      "cell_type": "code",
      "metadata": {
        "id": "PTqJzm6NxR4Z"
      },
      "source": [
        "ohe = prep.OneHotEncoder()"
      ],
      "execution_count": 24,
      "outputs": []
    },
    {
      "cell_type": "code",
      "metadata": {
        "id": "LzMT2X3R5RKC"
      },
      "source": [
        "df = df.sample(frac = 1)"
      ],
      "execution_count": 25,
      "outputs": []
    },
    {
      "cell_type": "code",
      "metadata": {
        "id": "0EUes1L-vziL"
      },
      "source": [
        "X_cols = [\"Year\", \"dayOfWeek\", \"RevenueFormat\", \"netIncomeFormat\", \"yearDifference\", \"CEOAge\"]"
      ],
      "execution_count": 26,
      "outputs": []
    },
    {
      "cell_type": "code",
      "metadata": {
        "id": "a-WpIIPExoIl"
      },
      "source": [
        "one_hot_sector = ohe.fit_transform(df[\"Sector\"].values.reshape(-1,1)).toarray()"
      ],
      "execution_count": 27,
      "outputs": []
    },
    {
      "cell_type": "code",
      "metadata": {
        "id": "ILkVJsZyx82a"
      },
      "source": [
        "one_hot_USA = ohe.fit_transform(df[\"USACompany\"].values.reshape(-1,1)).toarray()"
      ],
      "execution_count": 28,
      "outputs": []
    },
    {
      "cell_type": "code",
      "metadata": {
        "id": "bAysy8zrFfWN"
      },
      "source": [
        "one_hot_founding_date = ohe.fit_transform(df[\"FoundingDateGrouped\"].values.reshape(-1,1)).toarray()"
      ],
      "execution_count": 29,
      "outputs": []
    },
    {
      "cell_type": "code",
      "metadata": {
        "id": "tIklu5ZWFlVO"
      },
      "source": [
        "one_hot_employees = ohe.fit_transform(df[\"employeesGrouped\"].values.reshape(-1,1)).toarray()"
      ],
      "execution_count": 30,
      "outputs": []
    },
    {
      "cell_type": "code",
      "metadata": {
        "id": "bgaPnMa_Fsfz"
      },
      "source": [
        "one_hot_fiscal = ohe.fit_transform(df[\"FiscalMonth\"].values.reshape(-1,1)).toarray()"
      ],
      "execution_count": 31,
      "outputs": []
    },
    {
      "cell_type": "code",
      "metadata": {
        "colab": {
          "base_uri": "https://localhost:8080/",
          "height": 313
        },
        "id": "FWKHUt5GRCRS",
        "outputId": "a1e19575-2720-4d05-ccf3-d03229c7b5e8"
      },
      "source": [
        "fig, ax = plt.subplots()\n",
        "plt.bar(df['USACompany'].value_counts().index,df['USACompany'].value_counts().values)\n",
        "plt.xlabel(\"USA Company\")\n",
        "plt.ylabel(\"Count\")\n",
        "plt.title(\"Histogram of whether the company is from USA\")"
      ],
      "execution_count": 32,
      "outputs": [
        {
          "output_type": "execute_result",
          "data": {
            "text/plain": [
              "Text(0.5, 1.0, 'Histogram of whether the company is from USA')"
            ]
          },
          "metadata": {},
          "execution_count": 32
        },
        {
          "output_type": "display_data",
          "data": {
            "image/png": "[encoded data removed]",
            "text/plain": [
              "<Figure size 432x288 with 1 Axes>"
            ]
          },
          "metadata": {
            "needs_background": "light"
          }
        }
      ]
    },
    {
      "cell_type": "code",
      "metadata": {
        "id": "IMt7ufE0Isah"
      },
      "source": [
        "from sklearn.model_selection import train_test_split\n",
        "from sklearn import datasets\n",
        "from sklearn import svm\n",
        "from sklearn.datasets import make_classification\n",
        "from sklearn.model_selection import KFold\n",
        "from sklearn.model_selection import cross_val_score\n",
        "from sklearn.metrics import confusion_matrix\n",
        "import seaborn as sn"
      ],
      "execution_count": 33,
      "outputs": []
    },
    {
      "cell_type": "code",
      "metadata": {
        "id": "5BcCa2-BUL00"
      },
      "source": [
        "cv = KFold(n_splits=len(df), random_state=1, shuffle=True)"
      ],
      "execution_count": 34,
      "outputs": []
    },
    {
      "cell_type": "code",
      "metadata": {
        "id": "WUgzuwHuvk6A"
      },
      "source": [
        "train_proportion = 0.8\n",
        "n = len(df)\n",
        "t = int(train_proportion * n)\n",
        "\n",
        "X = np.concatenate((df[X_cols], one_hot_sector, one_hot_USA, one_hot_founding_date,\n",
        "                    one_hot_employees, one_hot_fiscal), axis=1)\n",
        "Y1 = df[\"profitDay0\"]\n",
        "Y2 = df[\"day0PctChange\"]\n",
        "Y3 = df[\"closeDay0\"] - df[\"openDay0\"]\n",
        "\n",
        "X_train = X[0:t]\n",
        "X_test = X[t:n]\n",
        "Y1_train = Y1.iloc[0:t]\n",
        "Y1_test = Y1.iloc[t:n]\n",
        "Y2_train = Y2.iloc[0:t]\n",
        "Y2_test = Y2.iloc[t:n]"
      ],
      "execution_count": 98,
      "outputs": []
    },
    {
      "cell_type": "code",
      "metadata": {
        "id": "k0lNi1DGUwTX"
      },
      "source": [
        "lr_model = lm.LogisticRegression()\n",
        "scores = cross_val_score(lr_model, X, Y1, scoring='accuracy', cv=cv)"
      ],
      "execution_count": 36,
      "outputs": []
    },
    {
      "cell_type": "code",
      "metadata": {
        "colab": {
          "base_uri": "https://localhost:8080/"
        },
        "id": "iR3kz-WnVcMb",
        "outputId": "91683049-0856-4c32-c1a9-ac035c0be080"
      },
      "source": [
        "scores"
      ],
      "execution_count": 37,
      "outputs": [
        {
          "output_type": "execute_result",
          "data": {
            "text/plain": [
              "array([0., 0., 1., ..., 1., 0., 1.])"
            ]
          },
          "metadata": {},
          "execution_count": 37
        }
      ]
    },
    {
      "cell_type": "code",
      "metadata": {
        "id": "vMLWfkbUw7Gc",
        "colab": {
          "base_uri": "https://localhost:8080/"
        },
        "outputId": "0b192fd6-a24d-41e5-98a9-44dbac5acd46"
      },
      "source": [
        "print('Accuracy: %.3f (%.3f)' % (np.mean(scores), np.std(scores)))"
      ],
      "execution_count": 38,
      "outputs": [
        {
          "output_type": "stream",
          "name": "stdout",
          "text": [
            "Accuracy: 0.547 (0.498)\n"
          ]
        }
      ]
    },
    {
      "cell_type": "code",
      "metadata": {
        "id": "QP7CPxc4b_k0"
      },
      "source": [
        "def evaluate_model(data_x, data_y, margin, model):\n",
        "    k_fold = KFold(10, shuffle=True, random_state=1)\n",
        "\n",
        "    predicted_targets = np.array([])\n",
        "    actual_targets = np.array([])\n",
        "    means = []\n",
        "    profit = 0\n",
        "    for train_ix, test_ix in k_fold.split(data_x):\n",
        "        # print(train_ix)\n",
        "        # print(data_y.iloc[train_ix])\n",
        "        train_x, train_y, test_x, test_y = data_x[train_ix], data_y.iloc[train_ix], data_x[test_ix], data_y.iloc[test_ix]\n",
        "        test_margin = margin.iloc[test_ix]\n",
        "        # Fit the classifier\n",
        "        classifier = model.fit(train_x, train_y)\n",
        "\n",
        "        # Predict the labels of the test set samples\n",
        "        predicted_labels = classifier.predict(test_x)\n",
        "        \n",
        "        for i in range(len(predicted_labels)):\n",
        "          if predicted_labels[i] == 1:\n",
        "            profit = profit + test_margin.iloc[i]\n",
        "\n",
        "        predicted_targets = np.append(predicted_targets, predicted_labels)\n",
        "        actual_targets = np.append(actual_targets, test_y)\n",
        "        means.append(np.mean(predicted_labels == test_y))\n",
        "\n",
        "    return predicted_targets, actual_targets, means, profit/sum(predicted_targets)"
      ],
      "execution_count": 117,
      "outputs": []
    },
    {
      "cell_type": "code",
      "metadata": {
        "id": "kjkhJyJIcGtG"
      },
      "source": [
        "pred, actual, means, profit = evaluate_model(X, Y1, Y3, lr_model)"
      ],
      "execution_count": 118,
      "outputs": []
    },
    {
      "cell_type": "code",
      "metadata": {
        "colab": {
          "base_uri": "https://localhost:8080/"
        },
        "id": "jO0HKJH3d5iY",
        "outputId": "4b75aa7e-66cd-4615-f74e-d8fe4604b07f"
      },
      "source": [
        "print(np.mean(pred == actual))\n",
        "print(np.std(means))\n",
        "print(profit)"
      ],
      "execution_count": 119,
      "outputs": [
        {
          "output_type": "stream",
          "name": "stdout",
          "text": [
            "0.5499239736441967\n",
            "0.03080608718688286\n",
            "-0.02055731462925817\n"
          ]
        }
      ]
    },
    {
      "cell_type": "code",
      "metadata": {
        "colab": {
          "base_uri": "https://localhost:8080/",
          "height": 458
        },
        "id": "b4mVe2MZeJBe",
        "outputId": "63cc7cfb-804a-4234-d522-2a6a3f2d37f4"
      },
      "source": [
        "cfn_matrix = confusion_matrix(actual, pred)\n",
        "df_cm = pd.DataFrame(cfn_matrix, range(2), range(2))\n",
        "plt.figure(figsize = (10,7))\n",
        "ax= plt.subplot()\n",
        "sn.heatmap(df_cm, annot=True, fmt='g')\n",
        "ax.set_xlabel('Predicted labels');ax.set_ylabel('True labels'); \n",
        "ax.set_title('Confusion Matrix'); "
      ],
      "execution_count": 120,
      "outputs": [
        {
          "output_type": "display_data",
          "data": {
            "image/png": "[encoded data removed]",
            "text/plain": [
              "<Figure size 720x504 with 2 Axes>"
            ]
          },
          "metadata": {
            "needs_background": "light"
          }
        }
      ]
    },
    {
      "cell_type": "code",
      "metadata": {
        "colab": {
          "base_uri": "https://localhost:8080/"
        },
        "id": "7zjqKZ6dwrbu",
        "outputId": "1f8bd62e-711b-4c91-e8c5-519cf4ee08d9"
      },
      "source": [
        "ax.set_xlabel('Predicted labels');ax.set_ylabel('True labels'); \n",
        "ax.set_title('Confusion Matrix'); lr_model.fit(X_train, Y1_train)"
      ],
      "execution_count": 43,
      "outputs": [
        {
          "output_type": "execute_result",
          "data": {
            "text/plain": [
              "LogisticRegression()"
            ]
          },
          "metadata": {},
          "execution_count": 43
        }
      ]
    },
    {
      "cell_type": "code",
      "metadata": {
        "colab": {
          "base_uri": "https://localhost:8080/"
        },
        "id": "kfijuJ_N7m4I",
        "outputId": "a2c9d7ae-fcc5-4e12-8530-ee3bf05e582d"
      },
      "source": [
        "lr_model.score(X_train, Y1_train)"
      ],
      "execution_count": 44,
      "outputs": [
        {
          "output_type": "execute_result",
          "data": {
            "text/plain": [
              "0.5361216730038023"
            ]
          },
          "metadata": {},
          "execution_count": 44
        }
      ]
    },
    {
      "cell_type": "code",
      "metadata": {
        "colab": {
          "base_uri": "https://localhost:8080/"
        },
        "id": "EHgtlOFF0lZI",
        "outputId": "c36d60df-d05f-46ab-95c5-98f781ef6482"
      },
      "source": [
        "lr_model.score(X_test, Y1_test)"
      ],
      "execution_count": 45,
      "outputs": [
        {
          "output_type": "execute_result",
          "data": {
            "text/plain": [
              "0.5873417721518988"
            ]
          },
          "metadata": {},
          "execution_count": 45
        }
      ]
    },
    {
      "cell_type": "code",
      "metadata": {
        "id": "lXI8OXw_7zU-"
      },
      "source": [
        "linear_model = lm.LinearRegression()"
      ],
      "execution_count": 46,
      "outputs": []
    },
    {
      "cell_type": "code",
      "metadata": {
        "colab": {
          "base_uri": "https://localhost:8080/"
        },
        "id": "gj6aqUda8Yij",
        "outputId": "9ab812b3-245c-4170-f3b7-8c4420287840"
      },
      "source": [
        "Y2_train.isna()"
      ],
      "execution_count": 47,
      "outputs": [
        {
          "output_type": "execute_result",
          "data": {
            "text/plain": [
              "610     False\n",
              "3720    False\n",
              "3475    False\n",
              "1607    False\n",
              "1780    False\n",
              "        ...  \n",
              "1078    False\n",
              "1330    False\n",
              "2363    False\n",
              "2567    False\n",
              "1085    False\n",
              "Name: day0PctChange, Length: 1578, dtype: bool"
            ]
          },
          "metadata": {},
          "execution_count": 47
        }
      ]
    },
    {
      "cell_type": "code",
      "metadata": {
        "colab": {
          "base_uri": "https://localhost:8080/"
        },
        "id": "ue_gcviT74eG",
        "outputId": "e216dd63-0abe-42c9-9639-60482c5632e7"
      },
      "source": [
        "linear_model.fit(X_train, Y2_train)"
      ],
      "execution_count": 48,
      "outputs": [
        {
          "output_type": "execute_result",
          "data": {
            "text/plain": [
              "LinearRegression()"
            ]
          },
          "metadata": {},
          "execution_count": 48
        }
      ]
    },
    {
      "cell_type": "code",
      "metadata": {
        "colab": {
          "base_uri": "https://localhost:8080/"
        },
        "id": "9P_JX3-S95aB",
        "outputId": "77f842dc-1ba5-4bce-ba83-3d5577c99e77"
      },
      "source": [
        "linear_model.coef_"
      ],
      "execution_count": 49,
      "outputs": [
        {
          "output_type": "execute_result",
          "data": {
            "text/plain": [
              "array([ 1.14175150e-03, -2.36345990e-04, -3.28138509e-15,  2.83552805e-14,\n",
              "       -1.77747111e-04,  2.06000573e-04,  1.64114479e-02,  5.46297825e-03,\n",
              "        5.91723041e-02, -2.55720149e-02, -1.30469578e-02, -1.10872826e-02,\n",
              "       -1.11678716e-02, -1.38120578e-02, -2.35299698e-03, -2.15529464e-02,\n",
              "        3.34617926e-03,  1.41992184e-02,  9.42577818e-03, -9.42577702e-03,\n",
              "        1.05861495e-02,  1.97556955e-02, -6.55950008e-03, -2.81806795e-02,\n",
              "        4.39833492e-03, -4.03315915e-03, -9.86816536e-03,  6.43947948e-03,\n",
              "        6.55088511e-03, -2.17012177e-03,  3.08108069e-03, -7.58562484e-02,\n",
              "        6.32555971e-02, -6.17550430e-03, -1.21757060e-02, -3.48364035e-03,\n",
              "        6.44291897e-02, -1.83792376e-02,  1.52520457e-02,  2.55604029e-02,\n",
              "       -1.49419101e-02, -2.93095061e-02, -8.17548199e-03])"
            ]
          },
          "metadata": {},
          "execution_count": 49
        }
      ]
    },
    {
      "cell_type": "code",
      "metadata": {
        "colab": {
          "base_uri": "https://localhost:8080/"
        },
        "id": "FWcuwmbM_x37",
        "outputId": "13354036-02a1-48b2-dab3-be9c266a4800"
      },
      "source": [
        "linear_model.score(X_train, Y2_train)"
      ],
      "execution_count": 50,
      "outputs": [
        {
          "output_type": "execute_result",
          "data": {
            "text/plain": [
              "0.029681019742524906"
            ]
          },
          "metadata": {},
          "execution_count": 50
        }
      ]
    },
    {
      "cell_type": "code",
      "metadata": {
        "colab": {
          "base_uri": "https://localhost:8080/"
        },
        "id": "0N22a73c9m-G",
        "outputId": "70653b34-cac1-43f1-ece9-29a106ca6e7e"
      },
      "source": [
        "linear_model.score(X_test, Y2_test)"
      ],
      "execution_count": 51,
      "outputs": [
        {
          "output_type": "execute_result",
          "data": {
            "text/plain": [
              "-0.0010397242585313826"
            ]
          },
          "metadata": {},
          "execution_count": 51
        }
      ]
    },
    {
      "cell_type": "code",
      "metadata": {
        "id": "RQPECqS6_jaz"
      },
      "source": [
        "import sklearn.ensemble"
      ],
      "execution_count": 52,
      "outputs": []
    },
    {
      "cell_type": "code",
      "metadata": {
        "id": "dDY0aB2v_di6"
      },
      "source": [
        "forest_model = sklearn.ensemble.RandomForestClassifier()"
      ],
      "execution_count": 121,
      "outputs": []
    },
    {
      "cell_type": "code",
      "metadata": {
        "colab": {
          "base_uri": "https://localhost:8080/",
          "height": 513
        },
        "id": "I2W-9lbDiqr8",
        "outputId": "7e215f68-6823-4c94-e4d9-f8eefb57fb85"
      },
      "source": [
        "pred, actual, means, profit = evaluate_model(X, Y1, Y3, forest_model)\n",
        "print(np.mean(pred == actual))\n",
        "print(np.std(means))\n",
        "print(profit)\n",
        "cfn_matrix = confusion_matrix(actual, pred)\n",
        "df_cm = pd.DataFrame(cfn_matrix, range(2), range(2))\n",
        "plt.figure(figsize = (10,7))\n",
        "ax= plt.subplot()\n",
        "sn.heatmap(df_cm, annot=True, fmt='g')\n",
        "ax.set_xlabel('Predicted labels');ax.set_ylabel('True labels'); \n",
        "ax.set_title('Confusion Matrix'); "
      ],
      "execution_count": 122,
      "outputs": [
        {
          "output_type": "stream",
          "name": "stdout",
          "text": [
            "0.6031424227065383\n",
            "0.028778011763494083\n",
            "0.21708173758865248\n"
          ]
        },
        {
          "output_type": "display_data",
          "data": {
            "image/png": "[encoded data removed]",
            "text/plain": [
              "<Figure size 720x504 with 2 Axes>"
            ]
          },
          "metadata": {
            "needs_background": "light"
          }
        }
      ]
    },
    {
      "cell_type": "code",
      "metadata": {
        "colab": {
          "base_uri": "https://localhost:8080/"
        },
        "id": "DjDxIDHF_ovQ",
        "outputId": "f8402355-fa47-4888-9c9d-991e6b1d0e54"
      },
      "source": [
        "forest_model.fit(X_train, Y1_train)"
      ],
      "execution_count": 55,
      "outputs": [
        {
          "output_type": "execute_result",
          "data": {
            "text/plain": [
              "RandomForestClassifier()"
            ]
          },
          "metadata": {},
          "execution_count": 55
        }
      ]
    },
    {
      "cell_type": "code",
      "metadata": {
        "colab": {
          "base_uri": "https://localhost:8080/"
        },
        "id": "KOkCYhs1_2iA",
        "outputId": "d18f2765-d288-45ee-fcc3-675cd510aff9"
      },
      "source": [
        "forest_model.score(X_train, Y1_train)"
      ],
      "execution_count": 56,
      "outputs": [
        {
          "output_type": "execute_result",
          "data": {
            "text/plain": [
              "1.0"
            ]
          },
          "metadata": {},
          "execution_count": 56
        }
      ]
    },
    {
      "cell_type": "code",
      "metadata": {
        "colab": {
          "base_uri": "https://localhost:8080/"
        },
        "id": "aDKpkJXf_uyq",
        "outputId": "6fff63c6-a693-4ce0-ee2b-68a3614194cd"
      },
      "source": [
        "forest_model.score(X_test, Y1_test)"
      ],
      "execution_count": 57,
      "outputs": [
        {
          "output_type": "execute_result",
          "data": {
            "text/plain": [
              "0.6"
            ]
          },
          "metadata": {},
          "execution_count": 57
        }
      ]
    },
    {
      "cell_type": "code",
      "metadata": {
        "id": "9QfjDKprFKkq"
      },
      "source": [
        "imp = forest_model.feature_importances_"
      ],
      "execution_count": 58,
      "outputs": []
    },
    {
      "cell_type": "code",
      "metadata": {
        "id": "nd_bT9BDFRvk"
      },
      "source": [
        "new_imp = [0, 0, 0, 0, 0, 0, 0]\n",
        "for i in range(len(imp)):\n",
        "  if (i < 5):\n",
        "    new_imp[i] = imp[i]\n",
        "  elif (i < 17):\n",
        "    new_imp[5] = new_imp[5] + imp[i]\n",
        "  else:\n",
        "    new_imp[6] = new_imp[6] + imp[i]"
      ],
      "execution_count": 59,
      "outputs": []
    },
    {
      "cell_type": "code",
      "metadata": {
        "id": "iWomukwtGgC6"
      },
      "source": [
        "names = [\"Year\", \"dayOfWeek\", \"Revenue\", \"netIncome\", \"yearDifference\", \"Sector\", \"USACompany\"]"
      ],
      "execution_count": 60,
      "outputs": []
    },
    {
      "cell_type": "code",
      "metadata": {
        "id": "l8WAbz2JG5kB"
      },
      "source": [
        "sorted_idx = np.argsort(new_imp)"
      ],
      "execution_count": 61,
      "outputs": []
    },
    {
      "cell_type": "code",
      "metadata": {
        "colab": {
          "base_uri": "https://localhost:8080/"
        },
        "id": "ZHE2QG-RHPKD",
        "outputId": "624d79a0-20a2-4a79-b221-35ff2c9ff049"
      },
      "source": [
        "sorted_idx"
      ],
      "execution_count": 62,
      "outputs": [
        {
          "output_type": "execute_result",
          "data": {
            "text/plain": [
              "array([1, 4, 3, 2, 0, 6, 5])"
            ]
          },
          "metadata": {},
          "execution_count": 62
        }
      ]
    },
    {
      "cell_type": "code",
      "metadata": {
        "colab": {
          "base_uri": "https://localhost:8080/",
          "height": 313
        },
        "id": "fdkSE-4GGoOS",
        "outputId": "e17633d3-3389-4be6-9b16-c9059f3f6a90"
      },
      "source": [
        "plt.barh([names[i] for i in sorted_idx], [new_imp[i] for i in sorted_idx])\n",
        "plt.xlabel(\"Feature Importance\")\n",
        "plt.ylabel(\"Feature\")\n",
        "plt.title(\"Random Forest Feature Importance\")"
      ],
      "execution_count": 63,
      "outputs": [
        {
          "output_type": "execute_result",
          "data": {
            "text/plain": [
              "Text(0.5, 1.0, 'Random Forest Feature Importance')"
            ]
          },
          "metadata": {},
          "execution_count": 63
        },
        {
          "output_type": "display_data",
          "data": {
            "image/png": "[encoded data removed]",
            "text/plain": [
              "<Figure size 432x288 with 1 Axes>"
            ]
          },
          "metadata": {
            "needs_background": "light"
          }
        }
      ]
    },
    {
      "cell_type": "code",
      "metadata": {
        "id": "l3BaD4cep_QO"
      },
      "source": [
        "from sklearn import svm\n",
        "from sklearn.pipeline import make_pipeline\n",
        "from sklearn.preprocessing import StandardScaler\n",
        "from sklearn.model_selection import StratifiedShuffleSplit\n",
        "from sklearn.model_selection import GridSearchCV"
      ],
      "execution_count": 67,
      "outputs": []
    },
    {
      "cell_type": "code",
      "metadata": {
        "colab": {
          "base_uri": "https://localhost:8080/"
        },
        "id": "-xIi3fcUEtFi",
        "outputId": "f3df8730-b29c-49d1-e376-ee35b3197c8d"
      },
      "source": [
        "np.logspace(-13, 3, 17)"
      ],
      "execution_count": 74,
      "outputs": [
        {
          "output_type": "execute_result",
          "data": {
            "text/plain": [
              "array([1.e-13, 1.e-12, 1.e-11, 1.e-10, 1.e-09, 1.e-08, 1.e-07, 1.e-06,\n",
              "       1.e-05, 1.e-04, 1.e-03, 1.e-02, 1.e-01, 1.e+00, 1.e+01, 1.e+02,\n",
              "       1.e+03])"
            ]
          },
          "metadata": {},
          "execution_count": 74
        }
      ]
    },
    {
      "cell_type": "code",
      "metadata": {
        "colab": {
          "base_uri": "https://localhost:8080/"
        },
        "id": "bzUGSez7DOLO",
        "outputId": "f8287a4c-7d16-420d-930c-e37e2f3d1354"
      },
      "source": [
        "C_range = np.logspace(-2, 10, 13)\n",
        "gamma_range = np.logspace(-13, 3, 17)\n",
        "param_grid = dict(gamma=gamma_range, C=C_range)\n",
        "cv = StratifiedShuffleSplit(n_splits=5, test_size=0.2, random_state=42)\n",
        "grid = GridSearchCV(svm.SVC(kernel=\"rbf\"), param_grid=param_grid, cv=cv)\n",
        "grid.fit(X, Y1)"
      ],
      "execution_count": 75,
      "outputs": [
        {
          "output_type": "execute_result",
          "data": {
            "text/plain": [
              "GridSearchCV(cv=StratifiedShuffleSplit(n_splits=5, random_state=42, test_size=0.2,\n",
              "            train_size=None),\n",
              "             estimator=SVC(),\n",
              "             param_grid={'C': array([1.e-02, 1.e-01, 1.e+00, 1.e+01, 1.e+02, 1.e+03, 1.e+04, 1.e+05,\n",
              "       1.e+06, 1.e+07, 1.e+08, 1.e+09, 1.e+10]),\n",
              "                         'gamma': array([1.e-13, 1.e-12, 1.e-11, 1.e-10, 1.e-09, 1.e-08, 1.e-07, 1.e-06,\n",
              "       1.e-05, 1.e-04, 1.e-03, 1.e-02, 1.e-01, 1.e+00, 1.e+01, 1.e+02,\n",
              "       1.e+03])})"
            ]
          },
          "metadata": {},
          "execution_count": 75
        }
      ]
    },
    {
      "cell_type": "code",
      "metadata": {
        "colab": {
          "base_uri": "https://localhost:8080/"
        },
        "id": "LypPvilREoqT",
        "outputId": "804a2089-e9b6-4c84-eb33-9f302d3d6389"
      },
      "source": [
        "print(\n",
        "    \"The best parameters are %s with a score of %0.2f\"\n",
        "    % (grid.best_params_, grid.best_score_)\n",
        ")\n"
      ],
      "execution_count": 76,
      "outputs": [
        {
          "output_type": "stream",
          "name": "stdout",
          "text": [
            "The best parameters are {'C': 1.0, 'gamma': 1e-11} with a score of 0.62\n"
          ]
        }
      ]
    },
    {
      "cell_type": "code",
      "metadata": {
        "id": "h6esWKPlGNjh"
      },
      "source": [
        "# svm_model = svm.SVC(kernel='rbf')\n",
        "svm_model = make_pipeline(StandardScaler(), svm.SVC(kernel=\"rbf\", C=1, gamma=0.01))"
      ],
      "execution_count": 123,
      "outputs": []
    },
    {
      "cell_type": "code",
      "metadata": {
        "colab": {
          "base_uri": "https://localhost:8080/",
          "height": 513
        },
        "id": "TrI8eUrSqFsN",
        "outputId": "537f1555-cdaa-4590-99da-f4e6b39c0455"
      },
      "source": [
        "pred, actual, means, profit = evaluate_model(X, Y1, Y3, svm_model)\n",
        "print(np.mean(pred == actual))\n",
        "print(np.std(means))\n",
        "print(profit)\n",
        "cfn_matrix = confusion_matrix(actual, pred)\n",
        "df_cm = pd.DataFrame(cfn_matrix, range(2), range(2))\n",
        "plt.figure(figsize = (10,7))\n",
        "ax= plt.subplot()\n",
        "sn.heatmap(df_cm, annot=True, fmt='g')\n",
        "ax.set_xlabel('Predicted labels');ax.set_ylabel('True labels'); \n",
        "ax.set_title('Confusion Matrix'); "
      ],
      "execution_count": 124,
      "outputs": [
        {
          "output_type": "stream",
          "name": "stdout",
          "text": [
            "0.6198682209832742\n",
            "0.03781271055219971\n",
            "0.7375325966850832\n"
          ]
        },
        {
          "output_type": "display_data",
          "data": {
            "image/png": "[encoded data removed]",
            "text/plain": [
              "<Figure size 720x504 with 2 Axes>"
            ]
          },
          "metadata": {
            "needs_background": "light"
          }
        }
      ]
    },
    {
      "cell_type": "code",
      "metadata": {
        "colab": {
          "base_uri": "https://localhost:8080/"
        },
        "id": "ui0EibfNKSXL",
        "outputId": "36c742da-3e0c-4edb-fb39-0b222107fa05"
      },
      "source": [
        ""
      ],
      "execution_count": 89,
      "outputs": [
        {
          "output_type": "execute_result",
          "data": {
            "text/plain": [
              "0.5524861878453039"
            ]
          },
          "metadata": {},
          "execution_count": 89
        }
      ]
    }
  ]
}